{
 "cells": [
  {
   "cell_type": "code",
   "execution_count": 1,
   "metadata": {
    "executionInfo": {
     "elapsed": 3080,
     "status": "ok",
     "timestamp": 1616870966630,
     "user": {
      "displayName": "Chaitanya Boyalla",
      "photoUrl": "https://lh3.googleusercontent.com/a-/AOh14GgdaCwr6SSgvVut6RLiT8dE7darfp_n3cvVqILWXw=s64",
      "userId": "17899511953159864359"
     },
     "user_tz": -330
    },
    "id": "Md0tWafN1ycn"
   },
   "outputs": [],
   "source": [
    "import pandas as pd\n",
    "import sqlite3\n",
    "import seaborn as sns\n",
    "import warnings\n",
    "warnings.filterwarnings(\"ignore\")\n",
    "import matplotlib.pyplot as plt\n",
    "from tqdm import tqdm\n",
    "import numpy as np\n",
    "from sklearn.metrics import f1_score\n",
    "from sklearn.model_selection import train_test_split\n",
    "import dask\n",
    "import dask.dataframe as dd"
   ]
  },
  {
   "cell_type": "code",
   "execution_count": 2,
   "metadata": {
    "executionInfo": {
     "elapsed": 3143,
     "status": "ok",
     "timestamp": 1616870972071,
     "user": {
      "displayName": "Chaitanya Boyalla",
      "photoUrl": "https://lh3.googleusercontent.com/a-/AOh14GgdaCwr6SSgvVut6RLiT8dE7darfp_n3cvVqILWXw=s64",
      "userId": "17899511953159864359"
     },
     "user_tz": -330
    },
    "id": "CMTm2rOc8kar"
   },
   "outputs": [],
   "source": [
    "import tensorflow as tf\n",
    "from tensorflow.keras import utils\n",
    "from tensorflow.keras.initializers import RandomUniform\n",
    "from tensorflow.keras.initializers import HeUniform\n",
    "from tensorflow.keras.initializers import HeNormal\n",
    "from tensorflow.keras.initializers import GlorotNormal\n",
    "from sklearn.preprocessing import StandardScaler\n",
    "from tensorflow.keras.models import Sequential\n",
    "from tensorflow.keras.layers import Dense, Activation, Dropout\n",
    "from tensorflow.keras.regularizers import Regularizer"
   ]
  },
  {
   "cell_type": "code",
   "execution_count": 3,
   "metadata": {
    "executionInfo": {
     "elapsed": 1356,
     "status": "ok",
     "timestamp": 1616868135565,
     "user": {
      "displayName": "Chaitanya Boyalla",
      "photoUrl": "https://lh3.googleusercontent.com/a-/AOh14GgdaCwr6SSgvVut6RLiT8dE7darfp_n3cvVqILWXw=s64",
      "userId": "17899511953159864359"
     },
     "user_tz": -330
    },
    "id": "1U-tq6Jw8p8b"
   },
   "outputs": [],
   "source": [
    "# from my previous assignments and AAIC reference notebooks\n",
    "from sklearn.metrics import confusion_matrix\n",
    "def plot_confusion_matrix(test_y, predict_y):\n",
    "    C = confusion_matrix(test_y, predict_y)\n",
    "    \n",
    "    A =(((C.T)/(C.sum(axis=1))).T)\n",
    "    \n",
    "    B =(C/C.sum(axis=0))\n",
    "    plt.figure(figsize=(20,4))\n",
    "    \n",
    "    labels = [0,1]\n",
    "    # representing A in heatmap format\n",
    "    cmap=sns.light_palette(\"blue\")\n",
    "    plt.subplot(1, 3, 1)\n",
    "    sns.heatmap(C, annot=True, cmap=cmap, fmt=\".3f\", xticklabels=labels, yticklabels=labels)\n",
    "    plt.xlabel('Predicted Class')\n",
    "    plt.ylabel('Original Class')\n",
    "    plt.title(\"Confusion matrix\")\n",
    "    \n",
    "    plt.subplot(1, 3, 2)\n",
    "    sns.heatmap(B, annot=True, cmap=cmap, fmt=\".3f\", xticklabels=labels, yticklabels=labels)\n",
    "    plt.xlabel('Predicted Class')\n",
    "    plt.ylabel('Original Class')\n",
    "    plt.title(\"Precision matrix\")\n",
    "    \n",
    "    plt.subplot(1, 3, 3)\n",
    "    # representing B in heatmap format\n",
    "    sns.heatmap(A, annot=True, cmap=cmap, fmt=\".3f\", xticklabels=labels, yticklabels=labels)\n",
    "    plt.xlabel('Predicted Class')\n",
    "    plt.ylabel('Original Class')\n",
    "    plt.title(\"Recall matrix\")\n",
    "    \n",
    "    plt.show()"
   ]
  },
  {
   "cell_type": "code",
   "execution_count": 3,
   "metadata": {
    "colab": {
     "base_uri": "https://localhost:8080/",
     "height": 232
    },
    "executionInfo": {
     "elapsed": 1889,
     "status": "ok",
     "timestamp": 1616870979258,
     "user": {
      "displayName": "Chaitanya Boyalla",
      "photoUrl": "https://lh3.googleusercontent.com/a-/AOh14GgdaCwr6SSgvVut6RLiT8dE7darfp_n3cvVqILWXw=s64",
      "userId": "17899511953159864359"
     },
     "user_tz": -330
    },
    "id": "mIzc7mbg3-GI",
    "outputId": "352b2116-0a2f-4a11-fe68-6fe7eb54b41f"
   },
   "outputs": [
    {
     "data": {
      "text/html": [
       "<div>\n",
       "<style scoped>\n",
       "    .dataframe tbody tr th:only-of-type {\n",
       "        vertical-align: middle;\n",
       "    }\n",
       "\n",
       "    .dataframe tbody tr th {\n",
       "        vertical-align: top;\n",
       "    }\n",
       "\n",
       "    .dataframe thead th {\n",
       "        text-align: right;\n",
       "    }\n",
       "</style>\n",
       "<table border=\"1\" class=\"dataframe\">\n",
       "  <thead>\n",
       "    <tr style=\"text-align: right;\">\n",
       "      <th></th>\n",
       "      <th>Unnamed: 0</th>\n",
       "      <th>user_id</th>\n",
       "      <th>product_id</th>\n",
       "      <th>reordered</th>\n",
       "      <th>order_id</th>\n",
       "      <th>number_of_orders</th>\n",
       "      <th>number_of_orders_with_reorders</th>\n",
       "      <th>user_reorder_ratio_by_orders</th>\n",
       "      <th>number_of_unique_products</th>\n",
       "      <th>number_of_unique_reordered_products</th>\n",
       "      <th>unique_products_reordered_ratio</th>\n",
       "      <th>mean_days_since_prior_order</th>\n",
       "      <th>median_days_since_prior_order</th>\n",
       "      <th>stdev_days_since_prior_order</th>\n",
       "      <th>days_since_last_ordered</th>\n",
       "      <th>u_p_count_L5</th>\n",
       "      <th>max_gap_L5</th>\n",
       "      <th>mean_gap_L5</th>\n",
       "      <th>median_gap_L5</th>\n",
       "      <th>std_gap_L5</th>\n",
       "      <th>u_p_ratio_aft_first_L5</th>\n",
       "      <th>u_p_count</th>\n",
       "      <th>max_gap</th>\n",
       "      <th>mean_gap</th>\n",
       "      <th>median_gap</th>\n",
       "      <th>std_gap</th>\n",
       "      <th>u_p_ratio_aft_first</th>\n",
       "      <th>streak</th>\n",
       "      <th>max_sim_top3</th>\n",
       "      <th>sum_of_sim_top3</th>\n",
       "      <th>prod_of_sim_top3</th>\n",
       "      <th>num_of_times_ordered</th>\n",
       "      <th>mean_dow</th>\n",
       "      <th>median_hod</th>\n",
       "      <th>avg_num_of_times_prod_ordered</th>\n",
       "    </tr>\n",
       "  </thead>\n",
       "  <tbody>\n",
       "    <tr>\n",
       "      <th>0</th>\n",
       "      <td>0</td>\n",
       "      <td>1</td>\n",
       "      <td>196</td>\n",
       "      <td>1.0</td>\n",
       "      <td>1187899.0</td>\n",
       "      <td>10</td>\n",
       "      <td>9.0</td>\n",
       "      <td>1.0</td>\n",
       "      <td>18</td>\n",
       "      <td>10.0</td>\n",
       "      <td>0.555556</td>\n",
       "      <td>19.555556</td>\n",
       "      <td>20.0</td>\n",
       "      <td>8.858281</td>\n",
       "      <td>14.0</td>\n",
       "      <td>5.0</td>\n",
       "      <td>30.0</td>\n",
       "      <td>16.0</td>\n",
       "      <td>17.0</td>\n",
       "      <td>10.86278</td>\n",
       "      <td>1.0</td>\n",
       "      <td>10</td>\n",
       "      <td>30.0</td>\n",
       "      <td>19.555556</td>\n",
       "      <td>20.0</td>\n",
       "      <td>8.858281</td>\n",
       "      <td>1.0</td>\n",
       "      <td>10</td>\n",
       "      <td>1.000000</td>\n",
       "      <td>2.840198</td>\n",
       "      <td>0.846383</td>\n",
       "      <td>35791</td>\n",
       "      <td>2.898550</td>\n",
       "      <td>12.0</td>\n",
       "      <td>4.473875</td>\n",
       "    </tr>\n",
       "    <tr>\n",
       "      <th>1</th>\n",
       "      <td>1</td>\n",
       "      <td>1</td>\n",
       "      <td>12427</td>\n",
       "      <td>0.0</td>\n",
       "      <td>1187899.0</td>\n",
       "      <td>10</td>\n",
       "      <td>9.0</td>\n",
       "      <td>1.0</td>\n",
       "      <td>18</td>\n",
       "      <td>10.0</td>\n",
       "      <td>0.555556</td>\n",
       "      <td>19.555556</td>\n",
       "      <td>20.0</td>\n",
       "      <td>8.858281</td>\n",
       "      <td>14.0</td>\n",
       "      <td>5.0</td>\n",
       "      <td>30.0</td>\n",
       "      <td>16.0</td>\n",
       "      <td>17.0</td>\n",
       "      <td>10.86278</td>\n",
       "      <td>1.0</td>\n",
       "      <td>10</td>\n",
       "      <td>30.0</td>\n",
       "      <td>19.555556</td>\n",
       "      <td>20.0</td>\n",
       "      <td>8.858281</td>\n",
       "      <td>1.0</td>\n",
       "      <td>10</td>\n",
       "      <td>1.000000</td>\n",
       "      <td>2.920164</td>\n",
       "      <td>0.921089</td>\n",
       "      <td>6476</td>\n",
       "      <td>2.670784</td>\n",
       "      <td>12.0</td>\n",
       "      <td>3.857058</td>\n",
       "    </tr>\n",
       "    <tr>\n",
       "      <th>2</th>\n",
       "      <td>2</td>\n",
       "      <td>1</td>\n",
       "      <td>14084</td>\n",
       "      <td>0.0</td>\n",
       "      <td>1187899.0</td>\n",
       "      <td>10</td>\n",
       "      <td>9.0</td>\n",
       "      <td>1.0</td>\n",
       "      <td>18</td>\n",
       "      <td>10.0</td>\n",
       "      <td>0.555556</td>\n",
       "      <td>19.555556</td>\n",
       "      <td>20.0</td>\n",
       "      <td>8.858281</td>\n",
       "      <td>190.0</td>\n",
       "      <td>0.0</td>\n",
       "      <td>-1.0</td>\n",
       "      <td>-1.0</td>\n",
       "      <td>-1.0</td>\n",
       "      <td>-1.00000</td>\n",
       "      <td>0.0</td>\n",
       "      <td>1</td>\n",
       "      <td>-1.0</td>\n",
       "      <td>-1.000000</td>\n",
       "      <td>-1.0</td>\n",
       "      <td>-1.000000</td>\n",
       "      <td>0.1</td>\n",
       "      <td>1</td>\n",
       "      <td>0.122681</td>\n",
       "      <td>0.318864</td>\n",
       "      <td>0.001171</td>\n",
       "      <td>15935</td>\n",
       "      <td>2.697082</td>\n",
       "      <td>13.0</td>\n",
       "      <td>5.290505</td>\n",
       "    </tr>\n",
       "    <tr>\n",
       "      <th>3</th>\n",
       "      <td>3</td>\n",
       "      <td>1</td>\n",
       "      <td>26088</td>\n",
       "      <td>1.0</td>\n",
       "      <td>1187899.0</td>\n",
       "      <td>10</td>\n",
       "      <td>9.0</td>\n",
       "      <td>1.0</td>\n",
       "      <td>18</td>\n",
       "      <td>10.0</td>\n",
       "      <td>0.555556</td>\n",
       "      <td>19.555556</td>\n",
       "      <td>20.0</td>\n",
       "      <td>8.858281</td>\n",
       "      <td>175.0</td>\n",
       "      <td>0.0</td>\n",
       "      <td>-1.0</td>\n",
       "      <td>-1.0</td>\n",
       "      <td>-1.0</td>\n",
       "      <td>-1.00000</td>\n",
       "      <td>0.0</td>\n",
       "      <td>2</td>\n",
       "      <td>15.0</td>\n",
       "      <td>15.000000</td>\n",
       "      <td>15.0</td>\n",
       "      <td>0.000000</td>\n",
       "      <td>0.2</td>\n",
       "      <td>2</td>\n",
       "      <td>0.845998</td>\n",
       "      <td>2.251352</td>\n",
       "      <td>0.410011</td>\n",
       "      <td>2523</td>\n",
       "      <td>2.931431</td>\n",
       "      <td>13.0</td>\n",
       "      <td>2.169390</td>\n",
       "    </tr>\n",
       "    <tr>\n",
       "      <th>4</th>\n",
       "      <td>4</td>\n",
       "      <td>1</td>\n",
       "      <td>26405</td>\n",
       "      <td>1.0</td>\n",
       "      <td>1187899.0</td>\n",
       "      <td>10</td>\n",
       "      <td>9.0</td>\n",
       "      <td>1.0</td>\n",
       "      <td>18</td>\n",
       "      <td>10.0</td>\n",
       "      <td>0.555556</td>\n",
       "      <td>19.555556</td>\n",
       "      <td>20.0</td>\n",
       "      <td>8.858281</td>\n",
       "      <td>125.0</td>\n",
       "      <td>0.0</td>\n",
       "      <td>-1.0</td>\n",
       "      <td>-1.0</td>\n",
       "      <td>-1.0</td>\n",
       "      <td>-1.00000</td>\n",
       "      <td>0.0</td>\n",
       "      <td>2</td>\n",
       "      <td>65.0</td>\n",
       "      <td>65.000000</td>\n",
       "      <td>65.0</td>\n",
       "      <td>0.000000</td>\n",
       "      <td>0.2</td>\n",
       "      <td>1</td>\n",
       "      <td>0.790627</td>\n",
       "      <td>2.070992</td>\n",
       "      <td>0.315211</td>\n",
       "      <td>1214</td>\n",
       "      <td>2.765239</td>\n",
       "      <td>12.0</td>\n",
       "      <td>1.790560</td>\n",
       "    </tr>\n",
       "  </tbody>\n",
       "</table>\n",
       "</div>"
      ],
      "text/plain": [
       "   Unnamed: 0  user_id  ...  median_hod  avg_num_of_times_prod_ordered\n",
       "0           0        1  ...        12.0                       4.473875\n",
       "1           1        1  ...        12.0                       3.857058\n",
       "2           2        1  ...        13.0                       5.290505\n",
       "3           3        1  ...        13.0                       2.169390\n",
       "4           4        1  ...        12.0                       1.790560\n",
       "\n",
       "[5 rows x 35 columns]"
      ]
     },
     "execution_count": 3,
     "metadata": {
      "tags": []
     },
     "output_type": "execute_result"
    }
   ],
   "source": [
    "train_data=dd.read_csv('/content/drive/MyDrive/Colab Notebooks/Instacart_train.csv')\n",
    "train_data.head()"
   ]
  },
  {
   "cell_type": "code",
   "execution_count": 4,
   "metadata": {
    "colab": {
     "base_uri": "https://localhost:8080/",
     "height": 232
    },
    "executionInfo": {
     "elapsed": 2289,
     "status": "ok",
     "timestamp": 1616870984051,
     "user": {
      "displayName": "Chaitanya Boyalla",
      "photoUrl": "https://lh3.googleusercontent.com/a-/AOh14GgdaCwr6SSgvVut6RLiT8dE7darfp_n3cvVqILWXw=s64",
      "userId": "17899511953159864359"
     },
     "user_tz": -330
    },
    "id": "0wlmiF5f4RD9",
    "outputId": "803375c7-cc4b-43f1-c072-b24c65cb52f0"
   },
   "outputs": [
    {
     "data": {
      "text/html": [
       "<div>\n",
       "<style scoped>\n",
       "    .dataframe tbody tr th:only-of-type {\n",
       "        vertical-align: middle;\n",
       "    }\n",
       "\n",
       "    .dataframe tbody tr th {\n",
       "        vertical-align: top;\n",
       "    }\n",
       "\n",
       "    .dataframe thead th {\n",
       "        text-align: right;\n",
       "    }\n",
       "</style>\n",
       "<table border=\"1\" class=\"dataframe\">\n",
       "  <thead>\n",
       "    <tr style=\"text-align: right;\">\n",
       "      <th></th>\n",
       "      <th>Unnamed: 0</th>\n",
       "      <th>user_id</th>\n",
       "      <th>order_id</th>\n",
       "      <th>product_id</th>\n",
       "      <th>number_of_orders</th>\n",
       "      <th>number_of_orders_with_reorders</th>\n",
       "      <th>user_reorder_ratio_by_orders</th>\n",
       "      <th>number_of_unique_products</th>\n",
       "      <th>number_of_unique_reordered_products</th>\n",
       "      <th>unique_products_reordered_ratio</th>\n",
       "      <th>mean_days_since_prior_order</th>\n",
       "      <th>median_days_since_prior_order</th>\n",
       "      <th>stdev_days_since_prior_order</th>\n",
       "      <th>days_since_last_ordered</th>\n",
       "      <th>u_p_count_L5</th>\n",
       "      <th>max_gap_L5</th>\n",
       "      <th>mean_gap_L5</th>\n",
       "      <th>median_gap_L5</th>\n",
       "      <th>std_gap_L5</th>\n",
       "      <th>u_p_ratio_aft_first_L5</th>\n",
       "      <th>u_p_count</th>\n",
       "      <th>max_gap</th>\n",
       "      <th>mean_gap</th>\n",
       "      <th>median_gap</th>\n",
       "      <th>std_gap</th>\n",
       "      <th>u_p_ratio_aft_first</th>\n",
       "      <th>streak</th>\n",
       "      <th>max_sim_top3</th>\n",
       "      <th>sum_of_sim_top3</th>\n",
       "      <th>prod_of_sim_top3</th>\n",
       "      <th>num_of_times_ordered</th>\n",
       "      <th>mean_dow</th>\n",
       "      <th>median_hod</th>\n",
       "      <th>avg_num_of_times_prod_ordered</th>\n",
       "    </tr>\n",
       "  </thead>\n",
       "  <tbody>\n",
       "    <tr>\n",
       "      <th>0</th>\n",
       "      <td>0</td>\n",
       "      <td>3</td>\n",
       "      <td>2774568</td>\n",
       "      <td>9387</td>\n",
       "      <td>12</td>\n",
       "      <td>11.0</td>\n",
       "      <td>1.0</td>\n",
       "      <td>33</td>\n",
       "      <td>19.0</td>\n",
       "      <td>0.575758</td>\n",
       "      <td>12.090909</td>\n",
       "      <td>11.0</td>\n",
       "      <td>5.124887</td>\n",
       "      <td>68.0</td>\n",
       "      <td>0.0</td>\n",
       "      <td>-1.0</td>\n",
       "      <td>-1.0</td>\n",
       "      <td>-1.0</td>\n",
       "      <td>-1.0</td>\n",
       "      <td>0.000000</td>\n",
       "      <td>5</td>\n",
       "      <td>50.0</td>\n",
       "      <td>19.0</td>\n",
       "      <td>9.5</td>\n",
       "      <td>18.013884</td>\n",
       "      <td>0.416667</td>\n",
       "      <td>4</td>\n",
       "      <td>0.374342</td>\n",
       "      <td>0.299991</td>\n",
       "      <td>2.927135e-04</td>\n",
       "      <td>36187</td>\n",
       "      <td>2.677177</td>\n",
       "      <td>13.0</td>\n",
       "      <td>2.860632</td>\n",
       "    </tr>\n",
       "    <tr>\n",
       "      <th>1</th>\n",
       "      <td>1</td>\n",
       "      <td>3</td>\n",
       "      <td>2774568</td>\n",
       "      <td>15143</td>\n",
       "      <td>12</td>\n",
       "      <td>11.0</td>\n",
       "      <td>1.0</td>\n",
       "      <td>33</td>\n",
       "      <td>19.0</td>\n",
       "      <td>0.575758</td>\n",
       "      <td>12.090909</td>\n",
       "      <td>11.0</td>\n",
       "      <td>5.124887</td>\n",
       "      <td>144.0</td>\n",
       "      <td>0.0</td>\n",
       "      <td>-1.0</td>\n",
       "      <td>-1.0</td>\n",
       "      <td>-1.0</td>\n",
       "      <td>-1.0</td>\n",
       "      <td>0.000000</td>\n",
       "      <td>1</td>\n",
       "      <td>-1.0</td>\n",
       "      <td>-1.0</td>\n",
       "      <td>-1.0</td>\n",
       "      <td>-1.000000</td>\n",
       "      <td>0.083333</td>\n",
       "      <td>1</td>\n",
       "      <td>0.237559</td>\n",
       "      <td>0.101456</td>\n",
       "      <td>8.945995e-04</td>\n",
       "      <td>3447</td>\n",
       "      <td>2.752248</td>\n",
       "      <td>13.0</td>\n",
       "      <td>1.968589</td>\n",
       "    </tr>\n",
       "    <tr>\n",
       "      <th>2</th>\n",
       "      <td>2</td>\n",
       "      <td>3</td>\n",
       "      <td>2774568</td>\n",
       "      <td>16797</td>\n",
       "      <td>12</td>\n",
       "      <td>11.0</td>\n",
       "      <td>1.0</td>\n",
       "      <td>33</td>\n",
       "      <td>19.0</td>\n",
       "      <td>0.575758</td>\n",
       "      <td>12.090909</td>\n",
       "      <td>11.0</td>\n",
       "      <td>5.124887</td>\n",
       "      <td>54.0</td>\n",
       "      <td>1.0</td>\n",
       "      <td>-1.0</td>\n",
       "      <td>-1.0</td>\n",
       "      <td>-1.0</td>\n",
       "      <td>-1.0</td>\n",
       "      <td>0.250000</td>\n",
       "      <td>3</td>\n",
       "      <td>76.0</td>\n",
       "      <td>45.0</td>\n",
       "      <td>45.0</td>\n",
       "      <td>31.000000</td>\n",
       "      <td>0.250000</td>\n",
       "      <td>1</td>\n",
       "      <td>0.005186</td>\n",
       "      <td>-0.011629</td>\n",
       "      <td>-3.381524e-08</td>\n",
       "      <td>142951</td>\n",
       "      <td>2.721569</td>\n",
       "      <td>13.0</td>\n",
       "      <td>3.312962</td>\n",
       "    </tr>\n",
       "    <tr>\n",
       "      <th>3</th>\n",
       "      <td>3</td>\n",
       "      <td>3</td>\n",
       "      <td>2774568</td>\n",
       "      <td>17668</td>\n",
       "      <td>12</td>\n",
       "      <td>11.0</td>\n",
       "      <td>1.0</td>\n",
       "      <td>33</td>\n",
       "      <td>19.0</td>\n",
       "      <td>0.575758</td>\n",
       "      <td>12.090909</td>\n",
       "      <td>11.0</td>\n",
       "      <td>5.124887</td>\n",
       "      <td>26.0</td>\n",
       "      <td>2.0</td>\n",
       "      <td>11.0</td>\n",
       "      <td>11.0</td>\n",
       "      <td>11.0</td>\n",
       "      <td>0.0</td>\n",
       "      <td>0.666667</td>\n",
       "      <td>5</td>\n",
       "      <td>53.0</td>\n",
       "      <td>29.5</td>\n",
       "      <td>28.0</td>\n",
       "      <td>19.716744</td>\n",
       "      <td>0.416667</td>\n",
       "      <td>2</td>\n",
       "      <td>0.576782</td>\n",
       "      <td>0.822771</td>\n",
       "      <td>6.108316e-03</td>\n",
       "      <td>2110</td>\n",
       "      <td>2.840284</td>\n",
       "      <td>14.0</td>\n",
       "      <td>2.370787</td>\n",
       "    </tr>\n",
       "    <tr>\n",
       "      <th>4</th>\n",
       "      <td>4</td>\n",
       "      <td>3</td>\n",
       "      <td>2774568</td>\n",
       "      <td>21903</td>\n",
       "      <td>12</td>\n",
       "      <td>11.0</td>\n",
       "      <td>1.0</td>\n",
       "      <td>33</td>\n",
       "      <td>19.0</td>\n",
       "      <td>0.575758</td>\n",
       "      <td>12.090909</td>\n",
       "      <td>11.0</td>\n",
       "      <td>5.124887</td>\n",
       "      <td>11.0</td>\n",
       "      <td>3.0</td>\n",
       "      <td>35.0</td>\n",
       "      <td>25.0</td>\n",
       "      <td>25.0</td>\n",
       "      <td>10.0</td>\n",
       "      <td>0.600000</td>\n",
       "      <td>8</td>\n",
       "      <td>35.0</td>\n",
       "      <td>19.0</td>\n",
       "      <td>15.0</td>\n",
       "      <td>10.099505</td>\n",
       "      <td>0.666667</td>\n",
       "      <td>3</td>\n",
       "      <td>1.000000</td>\n",
       "      <td>1.075832</td>\n",
       "      <td>-5.497061e-04</td>\n",
       "      <td>241921</td>\n",
       "      <td>2.620570</td>\n",
       "      <td>13.0</td>\n",
       "      <td>4.395607</td>\n",
       "    </tr>\n",
       "  </tbody>\n",
       "</table>\n",
       "</div>"
      ],
      "text/plain": [
       "   Unnamed: 0  user_id  ...  median_hod  avg_num_of_times_prod_ordered\n",
       "0           0        3  ...        13.0                       2.860632\n",
       "1           1        3  ...        13.0                       1.968589\n",
       "2           2        3  ...        13.0                       3.312962\n",
       "3           3        3  ...        14.0                       2.370787\n",
       "4           4        3  ...        13.0                       4.395607\n",
       "\n",
       "[5 rows x 34 columns]"
      ]
     },
     "execution_count": 4,
     "metadata": {
      "tags": []
     },
     "output_type": "execute_result"
    }
   ],
   "source": [
    "test_data=dd.read_csv('/content/drive/MyDrive/Colab Notebooks/Instacart_test.csv')\n",
    "test_data.head()"
   ]
  },
  {
   "cell_type": "markdown",
   "metadata": {
    "id": "DEseSf1K6kil"
   },
   "source": [
    "## **Train Test Split**"
   ]
  },
  {
   "cell_type": "code",
   "execution_count": 5,
   "metadata": {
    "executionInfo": {
     "elapsed": 60797,
     "status": "ok",
     "timestamp": 1616871048391,
     "user": {
      "displayName": "Chaitanya Boyalla",
      "photoUrl": "https://lh3.googleusercontent.com/a-/AOh14GgdaCwr6SSgvVut6RLiT8dE7darfp_n3cvVqILWXw=s64",
      "userId": "17899511953159864359"
     },
     "user_tz": -330
    },
    "id": "cgpIF9xt5UCi"
   },
   "outputs": [],
   "source": [
    "y=train_data.reordered.values.compute()\n",
    "x=train_data.drop(['Unnamed: 0','user_id','product_id','reordered','order_id'],axis=1).values.compute()\n",
    "ss=StandardScaler()\n",
    "data_scaled=ss.fit_transform(X=x)"
   ]
  },
  {
   "cell_type": "code",
   "execution_count": 6,
   "metadata": {
    "executionInfo": {
     "elapsed": 10024,
     "status": "ok",
     "timestamp": 1616868239125,
     "user": {
      "displayName": "Chaitanya Boyalla",
      "photoUrl": "https://lh3.googleusercontent.com/a-/AOh14GgdaCwr6SSgvVut6RLiT8dE7darfp_n3cvVqILWXw=s64",
      "userId": "17899511953159864359"
     },
     "user_tz": -330
    },
    "id": "-gERLCP36hCW"
   },
   "outputs": [],
   "source": [
    "X_tr,X_test,y_tr,y_test=train_test_split(data_scaled,y,test_size=0.5,stratify=y,random_state=1)\n",
    "X_train,X_cv,y_train,y_cv=train_test_split(X_tr,y_tr,test_size=0.2,stratify=y_tr,random_state=1)"
   ]
  },
  {
   "cell_type": "code",
   "execution_count": 7,
   "metadata": {
    "colab": {
     "base_uri": "https://localhost:8080/"
    },
    "executionInfo": {
     "elapsed": 965,
     "status": "ok",
     "timestamp": 1616868241977,
     "user": {
      "displayName": "Chaitanya Boyalla",
      "photoUrl": "https://lh3.googleusercontent.com/a-/AOh14GgdaCwr6SSgvVut6RLiT8dE7darfp_n3cvVqILWXw=s64",
      "userId": "17899511953159864359"
     },
     "user_tz": -330
    },
    "id": "Ux_a-8ti6SnI",
    "outputId": "bad83765-fe0e-45f9-fb7b-5da0ae4dea3c"
   },
   "outputs": [
    {
     "data": {
      "text/plain": [
       "((3389864, 30), (847466, 30), (4237331, 30))"
      ]
     },
     "execution_count": 7,
     "metadata": {
      "tags": []
     },
     "output_type": "execute_result"
    }
   ],
   "source": [
    "X_train.shape,X_cv.shape,X_test.shape"
   ]
  },
  {
   "cell_type": "code",
   "execution_count": 6,
   "metadata": {
    "executionInfo": {
     "elapsed": 1109,
     "status": "ok",
     "timestamp": 1616871062804,
     "user": {
      "displayName": "Chaitanya Boyalla",
      "photoUrl": "https://lh3.googleusercontent.com/a-/AOh14GgdaCwr6SSgvVut6RLiT8dE7darfp_n3cvVqILWXw=s64",
      "userId": "17899511953159864359"
     },
     "user_tz": -330
    },
    "id": "Rwplq3Pi6WKh"
   },
   "outputs": [],
   "source": [
    "import gc"
   ]
  },
  {
   "cell_type": "code",
   "execution_count": 7,
   "metadata": {
    "colab": {
     "base_uri": "https://localhost:8080/"
    },
    "executionInfo": {
     "elapsed": 1232,
     "status": "ok",
     "timestamp": 1616871065873,
     "user": {
      "displayName": "Chaitanya Boyalla",
      "photoUrl": "https://lh3.googleusercontent.com/a-/AOh14GgdaCwr6SSgvVut6RLiT8dE7darfp_n3cvVqILWXw=s64",
      "userId": "17899511953159864359"
     },
     "user_tz": -330
    },
    "id": "JUn5VKhcU969",
    "outputId": "97b72259-5826-4ebb-aa32-36a85cb7a5f4"
   },
   "outputs": [
    {
     "data": {
      "text/plain": [
       "650"
      ]
     },
     "execution_count": 7,
     "metadata": {
      "tags": []
     },
     "output_type": "execute_result"
    }
   ],
   "source": [
    "del train_data\n",
    "gc.collect()"
   ]
  },
  {
   "cell_type": "code",
   "execution_count": null,
   "metadata": {
    "colab": {
     "base_uri": "https://localhost:8080/"
    },
    "executionInfo": {
     "elapsed": 1355,
     "status": "ok",
     "timestamp": 1616678759703,
     "user": {
      "displayName": "Chaitanya Boyalla",
      "photoUrl": "https://lh3.googleusercontent.com/a-/AOh14GgdaCwr6SSgvVut6RLiT8dE7darfp_n3cvVqILWXw=s64",
      "userId": "17899511953159864359"
     },
     "user_tz": -330
    },
    "id": "7d8IFni0dBlZ",
    "outputId": "5db9916f-5c49-409a-a419-1ab616336516"
   },
   "outputs": [
    {
     "data": {
      "text/plain": [
       "88"
      ]
     },
     "execution_count": 12,
     "metadata": {
      "tags": []
     },
     "output_type": "execute_result"
    }
   ],
   "source": [
    "del test_data\n",
    "gc.collect()"
   ]
  },
  {
   "cell_type": "markdown",
   "metadata": {
    "id": "MCIgJS3h6Zck"
   },
   "source": [
    "# **Modelling**"
   ]
  },
  {
   "cell_type": "markdown",
   "metadata": {
    "id": "J-uW5Rc_6fwW"
   },
   "source": [
    "## ***Model-1(5-layered Neural Network)***"
   ]
  },
  {
   "cell_type": "code",
   "execution_count": null,
   "metadata": {
    "id": "dFgVzkaWhKVL"
   },
   "outputs": [],
   "source": [
    "class callback_modifications(tf.keras.callbacks.Callback):\n",
    "    \n",
    "    def on_epoch_end(self, epoch, logs={}):\n",
    "        \n",
    "        y_prob_cv=self.model.predict(X_cv)\n",
    "        y_pred_cv=[]\n",
    "        for i in y_prob_cv:\n",
    "            if i>=0.5:\n",
    "                y_pred_cv.append(1)\n",
    "            else:\n",
    "                y_pred_cv.append(0)\n",
    "        \n",
    "        f1_cv=f1_score(y_cv,y_pred_cv)\n",
    "        print(\"f1 score of '1=will reorder on cv': {}\".format(f1_cv))\n",
    "        if f1_cv>=0.3:\n",
    "          # Saves model when f1-score greater than or equal to 0.3 is seen.\n",
    "          file_path='/content/drive/MyDrive/Colab Notebooks/Deep Learning Models/model_1/model_5_layered_NN_7L_param_epoch'+str(epoch+1)+'.h5'\n",
    "          self.model.save(file_path)\n",
    "          print('model saved')\n",
    "        print('*'*50)\n",
    "        \n",
    "            \n",
    "callback_modif=callback_modifications()"
   ]
  },
  {
   "cell_type": "code",
   "execution_count": null,
   "metadata": {
    "id": "bIOi-69p9Klp"
   },
   "outputs": [],
   "source": [
    "model_1= Sequential()\n",
    "model_1.add(Dense(1024, activation='relu', input_dim=X_train.shape[1], kernel_initializer=HeNormal(seed=None),kernel_regularizer=tf.keras.regularizers.L2(0.01)))\n",
    "model_1.add(Dense(512, activation='relu',kernel_initializer=HeNormal(seed=None),kernel_regularizer=tf.keras.regularizers.L2(0.01)))\n",
    "model_1.add(Dropout(0.2))\n",
    "model_1.add(Dense(256, activation='relu',kernel_initializer=HeNormal(seed=None),kernel_regularizer=tf.keras.regularizers.L2(0.01)))\n",
    "model_1.add(Dropout(0.3))\n",
    "model_1.add(Dense(128, activation='relu',kernel_initializer=HeNormal(seed=None),kernel_regularizer=tf.keras.regularizers.L2(0.01)))\n",
    "model_1.add(Dense(64, activation='relu',kernel_initializer=HeNormal(seed=None),kernel_regularizer=tf.keras.regularizers.L2(0.01)))\n",
    "model_1.add(Dense(1, activation='sigmoid'))"
   ]
  },
  {
   "cell_type": "code",
   "execution_count": null,
   "metadata": {
    "colab": {
     "base_uri": "https://localhost:8080/"
    },
    "executionInfo": {
     "elapsed": 1843,
     "status": "ok",
     "timestamp": 1616699362662,
     "user": {
      "displayName": "Chaitanya Boyalla",
      "photoUrl": "https://lh3.googleusercontent.com/a-/AOh14GgdaCwr6SSgvVut6RLiT8dE7darfp_n3cvVqILWXw=s64",
      "userId": "17899511953159864359"
     },
     "user_tz": -330
    },
    "id": "4QfeF7Oh_ta3",
    "outputId": "136f8deb-c7e6-45fd-c520-f2ffa79323e0"
   },
   "outputs": [
    {
     "name": "stdout",
     "output_type": "stream",
     "text": [
      "Model: \"sequential\"\n",
      "_________________________________________________________________\n",
      "Layer (type)                 Output Shape              Param #   \n",
      "=================================================================\n",
      "dense (Dense)                (None, 1024)              31744     \n",
      "_________________________________________________________________\n",
      "dense_1 (Dense)              (None, 512)               524800    \n",
      "_________________________________________________________________\n",
      "dropout (Dropout)            (None, 512)               0         \n",
      "_________________________________________________________________\n",
      "dense_2 (Dense)              (None, 256)               131328    \n",
      "_________________________________________________________________\n",
      "dropout_1 (Dropout)          (None, 256)               0         \n",
      "_________________________________________________________________\n",
      "dense_3 (Dense)              (None, 128)               32896     \n",
      "_________________________________________________________________\n",
      "dense_4 (Dense)              (None, 64)                8256      \n",
      "_________________________________________________________________\n",
      "dense_5 (Dense)              (None, 1)                 65        \n",
      "=================================================================\n",
      "Total params: 729,089\n",
      "Trainable params: 729,089\n",
      "Non-trainable params: 0\n",
      "_________________________________________________________________\n"
     ]
    }
   ],
   "source": [
    "model_1.summary()"
   ]
  },
  {
   "cell_type": "code",
   "execution_count": null,
   "metadata": {
    "id": "Ple0SzfN9Kul"
   },
   "outputs": [],
   "source": [
    "model_1.compile(optimizer='adam', loss='binary_crossentropy', metrics='accuracy')"
   ]
  },
  {
   "cell_type": "code",
   "execution_count": null,
   "metadata": {
    "colab": {
     "base_uri": "https://localhost:8080/"
    },
    "id": "T9X4Jxrr9K2j",
    "outputId": "a9752eb3-5c1c-4765-b00b-3eaed2871971"
   },
   "outputs": [
    {
     "name": "stdout",
     "output_type": "stream",
     "text": [
      "Epoch 1/100\n",
      "13242/13242 [==============================] - 84s 6ms/step - loss: 1.9265 - accuracy: 0.9047 - val_loss: 0.2733 - val_accuracy: 0.9078\n",
      "f1 score of '1=will reorder on cv': 0.22491026988439192\n",
      "**************************************************\n",
      "Epoch 2/100\n",
      "13242/13242 [==============================] - 83s 6ms/step - loss: 0.2751 - accuracy: 0.9063 - val_loss: 0.2721 - val_accuracy: 0.9073\n",
      "f1 score of '1=will reorder on cv': 0.29573840456913325\n",
      "**************************************************\n",
      "Epoch 3/100\n",
      "13242/13242 [==============================] - 84s 6ms/step - loss: 0.2721 - accuracy: 0.9066 - val_loss: 0.2680 - val_accuracy: 0.9070\n",
      "f1 score of '1=will reorder on cv': 0.16959372562248318\n",
      "**************************************************\n",
      "Epoch 4/100\n",
      "13242/13242 [==============================] - 83s 6ms/step - loss: 0.2706 - accuracy: 0.9069 - val_loss: 0.2683 - val_accuracy: 0.9078\n",
      "f1 score of '1=will reorder on cv': 0.2688232431015763\n",
      "**************************************************\n",
      "Epoch 5/100\n",
      "13242/13242 [==============================] - 83s 6ms/step - loss: 0.2700 - accuracy: 0.9067 - val_loss: 0.2660 - val_accuracy: 0.9080\n",
      "f1 score of '1=will reorder on cv': 0.27423559643961115\n",
      "**************************************************\n",
      "Epoch 6/100\n",
      "13242/13242 [==============================] - 83s 6ms/step - loss: 0.2692 - accuracy: 0.9069 - val_loss: 0.2677 - val_accuracy: 0.9077\n",
      "f1 score of '1=will reorder on cv': 0.19346658557453433\n",
      "**************************************************\n",
      "Epoch 7/100\n",
      "13242/13242 [==============================] - 84s 6ms/step - loss: 0.2689 - accuracy: 0.9066 - val_loss: 0.2650 - val_accuracy: 0.9078\n",
      "f1 score of '1=will reorder on cv': 0.20547917344614386\n",
      "**************************************************\n",
      "Epoch 8/100\n",
      "13242/13242 [==============================] - 83s 6ms/step - loss: 0.2688 - accuracy: 0.9065 - val_loss: 0.2647 - val_accuracy: 0.9079\n",
      "f1 score of '1=will reorder on cv': 0.2730177062861507\n",
      "**************************************************\n",
      "Epoch 9/100\n",
      "13242/13242 [==============================] - 83s 6ms/step - loss: 0.2685 - accuracy: 0.9067 - val_loss: 0.2657 - val_accuracy: 0.9077\n",
      "f1 score of '1=will reorder on cv': 0.20468966078255918\n",
      "**************************************************\n",
      "Epoch 10/100\n",
      "13242/13242 [==============================] - 83s 6ms/step - loss: 0.2676 - accuracy: 0.9069 - val_loss: 0.2640 - val_accuracy: 0.9082\n",
      "f1 score of '1=will reorder on cv': 0.27209726443768995\n",
      "**************************************************\n",
      "Epoch 11/100\n",
      "13242/13242 [==============================] - 83s 6ms/step - loss: 0.2681 - accuracy: 0.9064 - val_loss: 0.2674 - val_accuracy: 0.9071\n",
      "f1 score of '1=will reorder on cv': 0.1618981752407299\n",
      "**************************************************\n",
      "Epoch 12/100\n",
      "13242/13242 [==============================] - 83s 6ms/step - loss: 0.2677 - accuracy: 0.9067 - val_loss: 0.2635 - val_accuracy: 0.9075\n",
      "f1 score of '1=will reorder on cv': 0.18526140733811453\n",
      "**************************************************\n",
      "Epoch 13/100\n",
      "13242/13242 [==============================] - 83s 6ms/step - loss: 0.2668 - accuracy: 0.9068 - val_loss: 0.2631 - val_accuracy: 0.9084\n",
      "f1 score of '1=will reorder on cv': 0.2508825061244961\n",
      "**************************************************\n",
      "Epoch 14/100\n",
      "13242/13242 [==============================] - 83s 6ms/step - loss: 0.2672 - accuracy: 0.9066 - val_loss: 0.2662 - val_accuracy: 0.9060\n",
      "f1 score of '1=will reorder on cv': 0.342146575229282\n",
      "model saved\n",
      "**************************************************\n",
      "Epoch 15/100\n",
      "13242/13242 [==============================] - 83s 6ms/step - loss: 0.2671 - accuracy: 0.9066 - val_loss: 0.2640 - val_accuracy: 0.9079\n",
      "f1 score of '1=will reorder on cv': 0.30195734631074217\n",
      "model saved\n",
      "**************************************************\n",
      "Epoch 16/100\n",
      "13242/13242 [==============================] - 83s 6ms/step - loss: 0.2664 - accuracy: 0.9069 - val_loss: 0.2643 - val_accuracy: 0.9069\n",
      "f1 score of '1=will reorder on cv': 0.32765627529329566\n",
      "model saved\n",
      "**************************************************\n",
      "Epoch 17/100\n",
      "13242/13242 [==============================] - 82s 6ms/step - loss: 0.2664 - accuracy: 0.9067 - val_loss: 0.2658 - val_accuracy: 0.9033\n",
      "f1 score of '1=will reorder on cv': 0.0320015126268893\n",
      "**************************************************\n",
      "Epoch 18/100\n",
      "13242/13242 [==============================] - 83s 6ms/step - loss: 0.2670 - accuracy: 0.9068 - val_loss: 0.2651 - val_accuracy: 0.9067\n",
      "f1 score of '1=will reorder on cv': 0.33887026525442865\n",
      "model saved\n",
      "**************************************************\n",
      "Epoch 19/100\n",
      "13242/13242 [==============================] - 83s 6ms/step - loss: 0.2662 - accuracy: 0.9072 - val_loss: 0.2635 - val_accuracy: 0.9079\n",
      "f1 score of '1=will reorder on cv': 0.297681955259486\n",
      "**************************************************\n",
      "Epoch 20/100\n",
      "13242/13242 [==============================] - 83s 6ms/step - loss: 0.2664 - accuracy: 0.9072 - val_loss: 0.2632 - val_accuracy: 0.9079\n",
      "f1 score of '1=will reorder on cv': 0.1953543039188395\n",
      "**************************************************\n",
      "Epoch 21/100\n",
      "13242/13242 [==============================] - 83s 6ms/step - loss: 0.2665 - accuracy: 0.9071 - val_loss: 0.2701 - val_accuracy: 0.9060\n",
      "f1 score of '1=will reorder on cv': 0.3515500940561405\n",
      "model saved\n",
      "**************************************************\n",
      "Epoch 22/100\n",
      "13242/13242 [==============================] - 83s 6ms/step - loss: 0.2667 - accuracy: 0.9070 - val_loss: 0.2645 - val_accuracy: 0.9022\n",
      "f1 score of '1=will reorder on cv': 0.0\n",
      "**************************************************\n",
      "Epoch 23/100\n",
      "13242/13242 [==============================] - 83s 6ms/step - loss: 0.2659 - accuracy: 0.9067 - val_loss: 0.2628 - val_accuracy: 0.9086\n",
      "f1 score of '1=will reorder on cv': 0.2677384273488108\n",
      "**************************************************\n",
      "Epoch 24/100\n",
      "13242/13242 [==============================] - 83s 6ms/step - loss: 0.2662 - accuracy: 0.9069 - val_loss: 0.2652 - val_accuracy: 0.9081\n",
      "f1 score of '1=will reorder on cv': 0.255471662047214\n",
      "**************************************************\n",
      "Epoch 25/100\n",
      "13242/13242 [==============================] - 82s 6ms/step - loss: 0.2662 - accuracy: 0.9068 - val_loss: 0.2617 - val_accuracy: 0.9083\n",
      "f1 score of '1=will reorder on cv': 0.28405898552993947\n",
      "**************************************************\n",
      "Epoch 26/100\n",
      "13242/13242 [==============================] - 83s 6ms/step - loss: 0.2664 - accuracy: 0.9065 - val_loss: 0.2630 - val_accuracy: 0.9082\n",
      "f1 score of '1=will reorder on cv': 0.2943481099905681\n",
      "**************************************************\n",
      "Epoch 27/100\n",
      "13242/13242 [==============================] - 83s 6ms/step - loss: 0.2656 - accuracy: 0.9068 - val_loss: 0.2743 - val_accuracy: 0.9022\n",
      "f1 score of '1=will reorder on cv': 0.0\n",
      "**************************************************\n",
      "Epoch 28/100\n",
      "13242/13242 [==============================] - 82s 6ms/step - loss: 0.2661 - accuracy: 0.9067 - val_loss: 0.2644 - val_accuracy: 0.9065\n",
      "f1 score of '1=will reorder on cv': 0.3388953347634828\n",
      "model saved\n",
      "**************************************************\n",
      "Epoch 29/100\n",
      "13242/13242 [==============================] - 83s 6ms/step - loss: 0.2658 - accuracy: 0.9065 - val_loss: 0.2625 - val_accuracy: 0.9076\n",
      "f1 score of '1=will reorder on cv': 0.1852202599619111\n",
      "**************************************************\n",
      "Epoch 30/100\n",
      "13242/13242 [==============================] - 83s 6ms/step - loss: 0.2662 - accuracy: 0.9066 - val_loss: 0.2638 - val_accuracy: 0.9062\n",
      "f1 score of '1=will reorder on cv': 0.1233631674088444\n",
      "**************************************************\n",
      "Epoch 31/100\n",
      "13242/13242 [==============================] - 83s 6ms/step - loss: 0.2660 - accuracy: 0.9066 - val_loss: 0.2615 - val_accuracy: 0.9081\n",
      "f1 score of '1=will reorder on cv': 0.2204932560305206\n",
      "**************************************************\n",
      "Epoch 32/100\n",
      "13242/13242 [==============================] - 83s 6ms/step - loss: 0.2658 - accuracy: 0.9066 - val_loss: 0.2641 - val_accuracy: 0.9022\n",
      "f1 score of '1=will reorder on cv': 0.0\n",
      "**************************************************\n",
      "Epoch 33/100\n",
      "13242/13242 [==============================] - 83s 6ms/step - loss: 0.2655 - accuracy: 0.9068 - val_loss: 0.2622 - val_accuracy: 0.9069\n",
      "f1 score of '1=will reorder on cv': 0.152584984313894\n",
      "**************************************************\n",
      "Epoch 34/100\n",
      "13242/13242 [==============================] - 83s 6ms/step - loss: 0.2652 - accuracy: 0.9068 - val_loss: 0.2649 - val_accuracy: 0.9074\n",
      "f1 score of '1=will reorder on cv': 0.16981311673065327\n",
      "**************************************************\n",
      "Epoch 35/100\n",
      "13242/13242 [==============================] - 83s 6ms/step - loss: 0.2654 - accuracy: 0.9071 - val_loss: 0.2613 - val_accuracy: 0.9083\n",
      "f1 score of '1=will reorder on cv': 0.23998044487900266\n",
      "**************************************************\n",
      "Epoch 36/100\n",
      "13242/13242 [==============================] - 83s 6ms/step - loss: 0.2654 - accuracy: 0.9068 - val_loss: 0.2614 - val_accuracy: 0.9083\n",
      "f1 score of '1=will reorder on cv': 0.23014143655164218\n",
      "**************************************************\n",
      "Epoch 37/100\n",
      "13242/13242 [==============================] - 83s 6ms/step - loss: 0.2655 - accuracy: 0.9068 - val_loss: 0.2642 - val_accuracy: 0.9064\n",
      "f1 score of '1=will reorder on cv': 0.3498111321419499\n",
      "model saved\n",
      "**************************************************\n",
      "Epoch 38/100\n",
      "13242/13242 [==============================] - 82s 6ms/step - loss: 0.2655 - accuracy: 0.9067 - val_loss: 0.2625 - val_accuracy: 0.9080\n",
      "f1 score of '1=will reorder on cv': 0.3029598289757328\n",
      "model saved\n",
      "**************************************************\n",
      "Epoch 39/100\n",
      "13242/13242 [==============================] - 83s 6ms/step - loss: 0.2658 - accuracy: 0.9065 - val_loss: 0.2647 - val_accuracy: 0.9022\n",
      "f1 score of '1=will reorder on cv': 0.0\n",
      "**************************************************\n",
      "Epoch 40/100\n",
      "13242/13242 [==============================] - 83s 6ms/step - loss: 0.2654 - accuracy: 0.9067 - val_loss: 0.2613 - val_accuracy: 0.9081\n",
      "f1 score of '1=will reorder on cv': 0.2961301989150091\n",
      "**************************************************\n",
      "Epoch 41/100\n",
      "13242/13242 [==============================] - 83s 6ms/step - loss: 0.2651 - accuracy: 0.9068 - val_loss: 0.2616 - val_accuracy: 0.9083\n",
      "f1 score of '1=will reorder on cv': 0.2844936330070806\n",
      "**************************************************\n",
      "Epoch 42/100\n",
      "13242/13242 [==============================] - 83s 6ms/step - loss: 0.2656 - accuracy: 0.9064 - val_loss: 0.2620 - val_accuracy: 0.9082\n",
      "f1 score of '1=will reorder on cv': 0.21519753161110775\n",
      "**************************************************\n",
      "Epoch 43/100\n",
      "13242/13242 [==============================] - 83s 6ms/step - loss: 0.2653 - accuracy: 0.9065 - val_loss: 0.2615 - val_accuracy: 0.9081\n",
      "f1 score of '1=will reorder on cv': 0.22312705208426892\n",
      "**************************************************\n",
      "Epoch 44/100\n",
      "13242/13242 [==============================] - 83s 6ms/step - loss: 0.2656 - accuracy: 0.9067 - val_loss: 0.2621 - val_accuracy: 0.9074\n",
      "f1 score of '1=will reorder on cv': 0.32494389365159887\n",
      "model saved\n",
      "**************************************************\n",
      "Epoch 45/100\n",
      "13242/13242 [==============================] - 83s 6ms/step - loss: 0.2655 - accuracy: 0.9067 - val_loss: 0.2622 - val_accuracy: 0.9059\n",
      "f1 score of '1=will reorder on cv': 0.11708667959014123\n",
      "**************************************************\n",
      "Epoch 46/100\n",
      "13242/13242 [==============================] - 81s 6ms/step - loss: 0.2658 - accuracy: 0.9061 - val_loss: 0.2632 - val_accuracy: 0.9085\n",
      "f1 score of '1=will reorder on cv': 0.24837678069580385\n",
      "**************************************************\n",
      "Epoch 47/100\n",
      "13242/13242 [==============================] - 82s 6ms/step - loss: 0.2656 - accuracy: 0.9064 - val_loss: 0.2649 - val_accuracy: 0.9022\n",
      "f1 score of '1=will reorder on cv': 0.0\n",
      "**************************************************\n",
      "Epoch 48/100\n",
      "13242/13242 [==============================] - 82s 6ms/step - loss: 0.2656 - accuracy: 0.9065 - val_loss: 0.2623 - val_accuracy: 0.9072\n",
      "f1 score of '1=will reorder on cv': 0.3319717723787121\n",
      "model saved\n",
      "**************************************************\n",
      "Epoch 49/100\n",
      "13242/13242 [==============================] - 81s 6ms/step - loss: 0.2655 - accuracy: 0.9067 - val_loss: 0.2641 - val_accuracy: 0.9022\n",
      "f1 score of '1=will reorder on cv': 0.0\n",
      "**************************************************\n",
      "Epoch 50/100\n",
      "13242/13242 [==============================] - 82s 6ms/step - loss: 0.2655 - accuracy: 0.9065 - val_loss: 0.2650 - val_accuracy: 0.9022\n",
      "f1 score of '1=will reorder on cv': 0.0\n",
      "**************************************************\n",
      "Epoch 51/100\n",
      "13242/13242 [==============================] - 81s 6ms/step - loss: 0.2655 - accuracy: 0.9064 - val_loss: 0.2614 - val_accuracy: 0.9079\n",
      "f1 score of '1=will reorder on cv': 0.19659579722971166\n",
      "**************************************************\n",
      "Epoch 52/100\n",
      "13242/13242 [==============================] - 81s 6ms/step - loss: 0.2654 - accuracy: 0.9065 - val_loss: 0.2613 - val_accuracy: 0.9085\n",
      "f1 score of '1=will reorder on cv': 0.2544324620727472\n",
      "**************************************************\n",
      "Epoch 53/100\n",
      "13242/13242 [==============================] - 81s 6ms/step - loss: 0.2652 - accuracy: 0.9066 - val_loss: 0.2671 - val_accuracy: 0.9060\n",
      "f1 score of '1=will reorder on cv': 0.352618154051112\n",
      "model saved\n",
      "**************************************************\n",
      "Epoch 54/100\n",
      "13242/13242 [==============================] - 80s 6ms/step - loss: 0.2651 - accuracy: 0.9066 - val_loss: 0.2639 - val_accuracy: 0.9080\n",
      "f1 score of '1=will reorder on cv': 0.20892249911181038\n",
      "**************************************************\n",
      "Epoch 55/100\n",
      "13242/13242 [==============================] - 82s 6ms/step - loss: 0.2662 - accuracy: 0.9061 - val_loss: 0.2618 - val_accuracy: 0.9084\n",
      "f1 score of '1=will reorder on cv': 0.2657698565860673\n",
      "**************************************************\n",
      "Epoch 56/100\n",
      "13242/13242 [==============================] - 82s 6ms/step - loss: 0.2651 - accuracy: 0.9065 - val_loss: 0.2626 - val_accuracy: 0.9084\n",
      "f1 score of '1=will reorder on cv': 0.2591708518723624\n",
      "**************************************************\n",
      "Epoch 57/100\n",
      "13242/13242 [==============================] - 83s 6ms/step - loss: 0.2656 - accuracy: 0.9063 - val_loss: 0.2614 - val_accuracy: 0.9081\n",
      "f1 score of '1=will reorder on cv': 0.3008468107651829\n",
      "model saved\n",
      "**************************************************\n",
      "Epoch 58/100\n",
      "13242/13242 [==============================] - 82s 6ms/step - loss: 0.2648 - accuracy: 0.9068 - val_loss: 0.2619 - val_accuracy: 0.9082\n",
      "f1 score of '1=will reorder on cv': 0.28806132623471187\n",
      "**************************************************\n",
      "Epoch 59/100\n",
      "13242/13242 [==============================] - 83s 6ms/step - loss: 0.2655 - accuracy: 0.9064 - val_loss: 0.2617 - val_accuracy: 0.9073\n",
      "f1 score of '1=will reorder on cv': 0.32609180609180605\n",
      "model saved\n",
      "**************************************************\n",
      "Epoch 60/100\n",
      "13242/13242 [==============================] - 83s 6ms/step - loss: 0.2651 - accuracy: 0.9064 - val_loss: 0.2608 - val_accuracy: 0.9078\n",
      "f1 score of '1=will reorder on cv': 0.1894153884446657\n",
      "**************************************************\n",
      "Epoch 61/100\n",
      "13242/13242 [==============================] - 83s 6ms/step - loss: 0.2658 - accuracy: 0.9062 - val_loss: 0.2603 - val_accuracy: 0.9085\n",
      "f1 score of '1=will reorder on cv': 0.2476538009879754\n",
      "**************************************************\n",
      "Epoch 62/100\n",
      "13242/13242 [==============================] - 84s 6ms/step - loss: 0.2652 - accuracy: 0.9064 - val_loss: 0.2629 - val_accuracy: 0.9022\n",
      "f1 score of '1=will reorder on cv': 0.0\n",
      "**************************************************\n",
      "Epoch 63/100\n",
      "13242/13242 [==============================] - 83s 6ms/step - loss: 0.2647 - accuracy: 0.9066 - val_loss: 0.2604 - val_accuracy: 0.9079\n",
      "f1 score of '1=will reorder on cv': 0.308668974615514\n",
      "model saved\n",
      "**************************************************\n",
      "Epoch 64/100\n",
      "13242/13242 [==============================] - 83s 6ms/step - loss: 0.2653 - accuracy: 0.9065 - val_loss: 0.2640 - val_accuracy: 0.9085\n",
      "f1 score of '1=will reorder on cv': 0.27227755301273804\n",
      "**************************************************\n",
      "Epoch 65/100\n",
      "13242/13242 [==============================] - 84s 6ms/step - loss: 0.2650 - accuracy: 0.9065 - val_loss: 0.2641 - val_accuracy: 0.9022\n",
      "f1 score of '1=will reorder on cv': 0.0\n",
      "**************************************************\n",
      "Epoch 66/100\n",
      "13242/13242 [==============================] - 83s 6ms/step - loss: 0.2649 - accuracy: 0.9069 - val_loss: 0.2698 - val_accuracy: 0.9069\n",
      "f1 score of '1=will reorder on cv': 0.15174415479709755\n",
      "**************************************************\n",
      "Epoch 67/100\n",
      "13242/13242 [==============================] - 84s 6ms/step - loss: 0.2647 - accuracy: 0.9065 - val_loss: 0.2610 - val_accuracy: 0.9074\n",
      "f1 score of '1=will reorder on cv': 0.17271193589202866\n",
      "**************************************************\n",
      "Epoch 68/100\n",
      "13242/13242 [==============================] - 84s 6ms/step - loss: 0.2658 - accuracy: 0.9062 - val_loss: 0.2626 - val_accuracy: 0.9063\n",
      "f1 score of '1=will reorder on cv': 0.34738442572426553\n",
      "model saved\n",
      "**************************************************\n",
      "Epoch 69/100\n",
      "13242/13242 [==============================] - 85s 6ms/step - loss: 0.2651 - accuracy: 0.9066 - val_loss: 0.2678 - val_accuracy: 0.9048\n",
      "f1 score of '1=will reorder on cv': 0.36555603634790135\n",
      "model saved\n",
      "**************************************************\n",
      "Epoch 70/100\n",
      "13242/13242 [==============================] - 85s 6ms/step - loss: 0.2651 - accuracy: 0.9062 - val_loss: 0.2613 - val_accuracy: 0.9085\n",
      "f1 score of '1=will reorder on cv': 0.26416884940971036\n",
      "**************************************************\n",
      "Epoch 71/100\n",
      "13242/13242 [==============================] - 85s 6ms/step - loss: 0.2650 - accuracy: 0.9062 - val_loss: 0.2619 - val_accuracy: 0.9083\n",
      "f1 score of '1=will reorder on cv': 0.23539709859847552\n",
      "**************************************************\n",
      "Epoch 72/100\n",
      "13242/13242 [==============================] - 85s 6ms/step - loss: 0.2650 - accuracy: 0.9064 - val_loss: 0.2604 - val_accuracy: 0.9082\n",
      "f1 score of '1=will reorder on cv': 0.3017716429430453\n",
      "model saved\n",
      "**************************************************\n",
      "Epoch 73/100\n",
      "13242/13242 [==============================] - 86s 6ms/step - loss: 0.2655 - accuracy: 0.9064 - val_loss: 0.2624 - val_accuracy: 0.9061\n",
      "f1 score of '1=will reorder on cv': 0.11872196688631707\n",
      "**************************************************\n",
      "Epoch 74/100\n",
      "13242/13242 [==============================] - 84s 6ms/step - loss: 0.2651 - accuracy: 0.9063 - val_loss: 0.2637 - val_accuracy: 0.9080\n",
      "f1 score of '1=will reorder on cv': 0.30409377592620673\n",
      "model saved\n",
      "**************************************************\n",
      "Epoch 75/100\n",
      " 8782/13242 [==================>...........] - ETA: 25s - loss: 0.2649 - accuracy: 0.9062"
     ]
    }
   ],
   "source": [
    "model_1.fit(X_train,y_train,batch_size=256,epochs=100,verbose=1,validation_data=(X_cv,y_cv),callbacks=[callback_modif])"
   ]
  },
  {
   "cell_type": "code",
   "execution_count": 25,
   "metadata": {
    "executionInfo": {
     "elapsed": 2748,
     "status": "ok",
     "timestamp": 1616870275647,
     "user": {
      "displayName": "Chaitanya Boyalla",
      "photoUrl": "https://lh3.googleusercontent.com/a-/AOh14GgdaCwr6SSgvVut6RLiT8dE7darfp_n3cvVqILWXw=s64",
      "userId": "17899511953159864359"
     },
     "user_tz": -330
    },
    "id": "ZMby-xBE5fWf"
   },
   "outputs": [],
   "source": [
    "from keras.models import load_model\n",
    "model_1=load_model(r\"/content/drive/MyDrive/Colab Notebooks/Deep Learning Models/model_1/model_5_layered_NN_7L_param_epoch69.h5\")"
   ]
  },
  {
   "cell_type": "markdown",
   "metadata": {
    "id": "CuPZ4Ils1Pk4"
   },
   "source": [
    "### ***Tuning Probability Thresholds***"
   ]
  },
  {
   "cell_type": "code",
   "execution_count": null,
   "metadata": {
    "colab": {
     "base_uri": "https://localhost:8080/"
    },
    "executionInfo": {
     "elapsed": 120110,
     "status": "ok",
     "timestamp": 1616778186007,
     "user": {
      "displayName": "Chaitanya Boyalla",
      "photoUrl": "https://lh3.googleusercontent.com/a-/AOh14GgdaCwr6SSgvVut6RLiT8dE7darfp_n3cvVqILWXw=s64",
      "userId": "17899511953159864359"
     },
     "user_tz": -330
    },
    "id": "lp3KlW0D9K-m",
    "outputId": "4d6cfe61-a6d8-46c3-b3f3-cd52d854f91d"
   },
   "outputs": [
    {
     "name": "stdout",
     "output_type": "stream",
     "text": [
      "f1_score of '1=will reorder' with threshold=0.1 is: 0.3319588540873147\n",
      "f1_score of '1=will reorder' with threshold=0.2 is: 0.4084077534535739\n",
      "f1_score of '1=will reorder' with threshold=0.3 is: 0.4300274141067357\n",
      "f1_score of '1=will reorder' with threshold=0.4 is: 0.4179165916282898\n",
      "f1_score of '1=will reorder' with threshold=0.5 is: 0.36555603634790135\n"
     ]
    }
   ],
   "source": [
    "threshold_1=[0.1,0.2,0.3,0.4,0.5]\n",
    "for thres in threshold_1:\n",
    "  y_pred=[]\n",
    "  for i in model_1.predict(X_cv):\n",
    "    if i>=thres:\n",
    "      y_pred.append(1)\n",
    "    else:\n",
    "      y_pred.append(0)\n",
    "  f1_cv=f1_score(y_cv,y_pred)\n",
    "  print(\"f1_score of '1=will reorder' with threshold={} is: {}\".format(thres,f1_cv))"
   ]
  },
  {
   "cell_type": "code",
   "execution_count": 26,
   "metadata": {
    "colab": {
     "base_uri": "https://localhost:8080/"
    },
    "executionInfo": {
     "elapsed": 163428,
     "status": "ok",
     "timestamp": 1616870451741,
     "user": {
      "displayName": "Chaitanya Boyalla",
      "photoUrl": "https://lh3.googleusercontent.com/a-/AOh14GgdaCwr6SSgvVut6RLiT8dE7darfp_n3cvVqILWXw=s64",
      "userId": "17899511953159864359"
     },
     "user_tz": -330
    },
    "id": "DZar33znsK8H",
    "outputId": "4f5d65ac-c857-40dc-adbb-3d7f2897fadd"
   },
   "outputs": [
    {
     "name": "stdout",
     "output_type": "stream",
     "text": [
      "f1_score of '1=will reorder' with threshold=0.27 is: 0.42638717632552403\n",
      "f1_score of '1=will reorder' with threshold=0.28 is: 0.4277019262606392\n",
      "f1_score of '1=will reorder' with threshold=0.29 is: 0.42904755480270024\n",
      "f1_score of '1=will reorder' with threshold=0.3 is: 0.4300274141067357\n",
      "f1_score of '1=will reorder' with threshold=0.31 is: 0.4302128263188034\n",
      "f1_score of '1=will reorder' with threshold=0.32 is: 0.4306208754208754\n",
      "f1_score of '1=will reorder' with threshold=0.33 is: 0.4301255784672137\n"
     ]
    }
   ],
   "source": [
    "threshold_2=[0.27,0.28,0.29,0.3,0.31,0.32,0.33]\n",
    "f1_scores=[]\n",
    "for thres in threshold_2:\n",
    "  y_pred=[]\n",
    "  for i in model_1.predict(X_cv):\n",
    "    if i>=thres:\n",
    "      y_pred.append(1)\n",
    "    else:\n",
    "      y_pred.append(0)\n",
    "  f1_cv=f1_score(y_cv,y_pred)\n",
    "  f1_scores.append(f1_cv)\n",
    "  print(\"f1_score of '1=will reorder' with threshold={} is: {}\".format(thres,f1_cv))"
   ]
  },
  {
   "cell_type": "code",
   "execution_count": 27,
   "metadata": {
    "colab": {
     "base_uri": "https://localhost:8080/",
     "height": 468
    },
    "executionInfo": {
     "elapsed": 1316,
     "status": "ok",
     "timestamp": 1616870459879,
     "user": {
      "displayName": "Chaitanya Boyalla",
      "photoUrl": "https://lh3.googleusercontent.com/a-/AOh14GgdaCwr6SSgvVut6RLiT8dE7darfp_n3cvVqILWXw=s64",
      "userId": "17899511953159864359"
     },
     "user_tz": -330
    },
    "id": "Uh6wsyIPuTPY",
    "outputId": "24eaf66f-1c6c-4908-adeb-2ffe79b6553e"
   },
   "outputs": [
    {
     "data": {
      "image/png": "[encoded data removed]",
      "text/plain": [
       "<Figure size 720x504 with 1 Axes>"
      ]
     },
     "metadata": {
      "needs_background": "light",
      "tags": []
     },
     "output_type": "display_data"
    }
   ],
   "source": [
    "plt.figure(figsize=(10,7))\n",
    "plt.plot(threshold_2,f1_scores,marker='*',mfc='r')\n",
    "plt.xlabel('Threshold Probabilities',size=15)\n",
    "plt.ylabel('f1-score on class label=1',size=15)\n",
    "plt.title('Probability threshold tuning for 5 layered Neural Network with 700k tunable parameters',size=20)\n",
    "plt.show()"
   ]
  },
  {
   "cell_type": "markdown",
   "metadata": {
    "id": "2-z1dZuq1Zsc"
   },
   "source": [
    "### ***Optimum Threshold(5 layered Neural Network)***: 0.32"
   ]
  },
  {
   "cell_type": "code",
   "execution_count": 28,
   "metadata": {
    "colab": {
     "base_uri": "https://localhost:8080/"
    },
    "executionInfo": {
     "elapsed": 213401,
     "status": "ok",
     "timestamp": 1616870692808,
     "user": {
      "displayName": "Chaitanya Boyalla",
      "photoUrl": "https://lh3.googleusercontent.com/a-/AOh14GgdaCwr6SSgvVut6RLiT8dE7darfp_n3cvVqILWXw=s64",
      "userId": "17899511953159864359"
     },
     "user_tz": -330
    },
    "id": "EarOflzOvAyS",
    "outputId": "9369b0b3-be1e-45cb-91d8-d2813c179e7a"
   },
   "outputs": [
    {
     "name": "stdout",
     "output_type": "stream",
     "text": [
      "f1-score on train data: [0.93005417 0.43092903]\n",
      "f1-score on test data: [0.93018694 0.43219423]\n"
     ]
    }
   ],
   "source": [
    "y_pred_NN_7L_param_train=[1 if i>=0.32 else 0 for i in model_1.predict(X_train)]\n",
    "y_pred_NN_7L_param_test=[1 if i>=0.32 else 0 for i in model_1.predict(X_test)]\n",
    "print('f1-score on train data: {}'.format(f1_score(y_train,y_pred_NN_7L_param_train,average=None)))\n",
    "print('f1-score on test data: {}'.format(f1_score(y_test,y_pred_NN_7L_param_test,average=None)))"
   ]
  },
  {
   "cell_type": "code",
   "execution_count": 29,
   "metadata": {
    "colab": {
     "base_uri": "https://localhost:8080/",
     "height": 591
    },
    "executionInfo": {
     "elapsed": 11336,
     "status": "ok",
     "timestamp": 1616870704155,
     "user": {
      "displayName": "Chaitanya Boyalla",
      "photoUrl": "https://lh3.googleusercontent.com/a-/AOh14GgdaCwr6SSgvVut6RLiT8dE7darfp_n3cvVqILWXw=s64",
      "userId": "17899511953159864359"
     },
     "user_tz": -330
    },
    "id": "i95JgIUQvTVq",
    "outputId": "3c0ea61a-59ed-42ef-fb39-54cdf0079c46"
   },
   "outputs": [
    {
     "name": "stdout",
     "output_type": "stream",
     "text": [
      "Train data\n"
     ]
    },
    {
     "data": {
      "image/png": "[encoded data removed]",
      "text/plain": [
       "<Figure size 1440x288 with 6 Axes>"
      ]
     },
     "metadata": {
      "needs_background": "light",
      "tags": []
     },
     "output_type": "display_data"
    },
    {
     "name": "stdout",
     "output_type": "stream",
     "text": [
      "Test data\n"
     ]
    },
    {
     "data": {
      "image/png": "[encoded data removed]",
      "text/plain": [
       "<Figure size 1440x288 with 6 Axes>"
      ]
     },
     "metadata": {
      "needs_background": "light",
      "tags": []
     },
     "output_type": "display_data"
    }
   ],
   "source": [
    "# Confusion, Precision and Recall matrices on train and test data predictions\n",
    "print('Train data')\n",
    "plot_confusion_matrix(y_train,y_pred_NN_7L_param_train)\n",
    "print('Test data')\n",
    "plot_confusion_matrix(y_test,y_pred_NN_7L_param_test)"
   ]
  },
  {
   "cell_type": "markdown",
   "metadata": {},
   "source": [
    "### ***Model-1 => 5 layered deep Neural Network with around 7 lakh tunable parameters:***\n",
    "\n",
    "* ***Optimum probability threshold    :*** 0.32\n",
    "* ***Test f1-score of '1=will reorder':*** 0.4321\n",
    "* ***Test recall of '1=will reorder'  :*** 0.484\n",
    "* ***Model did not over-fit to train data***"
   ]
  },
  {
   "cell_type": "markdown",
   "metadata": {},
   "source": [
    "### ***Model-1 Kaggle Submission***"
   ]
  },
  {
   "cell_type": "markdown",
   "metadata": {},
   "source": [
    "<img src=\"Kaggle Submission Screenshots/5 NN.png\">"
   ]
  },
  {
   "cell_type": "code",
   "execution_count": null,
   "metadata": {},
   "outputs": [],
   "source": []
  },
  {
   "cell_type": "markdown",
   "metadata": {
    "id": "p5u1qBrqvF6O"
   },
   "source": [
    "## ***Model-2(6-layered Neural Network)***"
   ]
  },
  {
   "cell_type": "code",
   "execution_count": null,
   "metadata": {
    "id": "FN0vAWsCvDzN"
   },
   "outputs": [],
   "source": [
    "class callback_modifications(tf.keras.callbacks.Callback):\n",
    "    \n",
    "    def on_epoch_end(self, epoch, logs={}):\n",
    "        \n",
    "        y_prob_cv=self.model.predict(X_cv)\n",
    "        y_pred_cv=[]\n",
    "        for i in y_prob_cv:\n",
    "            if i>=0.5:\n",
    "                y_pred_cv.append(1)\n",
    "            else:\n",
    "                y_pred_cv.append(0)\n",
    "        \n",
    "        f1_cv=f1_score(y_cv,y_pred_cv)\n",
    "        print(\"f1 score of '1=will reorder on cv': {}\".format(f1_cv))\n",
    "        if f1_cv>=0.3:\n",
    "          file_path='/content/drive/MyDrive/Colab Notebooks/Deep Learning Models/model_2/model_6_layered_NN_28L_param_epoch'+str(epoch+1)+'.h5'\n",
    "          self.model.save(file_path)\n",
    "          print('model saved')\n",
    "        print('*'*50)\n",
    "        \n",
    "            \n",
    "callback_modif=callback_modifications()"
   ]
  },
  {
   "cell_type": "code",
   "execution_count": null,
   "metadata": {
    "id": "rUU8EpUhvD-Q"
   },
   "outputs": [],
   "source": [
    "model_2= Sequential()\n",
    "model_2.add(Dense(2048, activation='relu', input_dim=X_train.shape[1], kernel_initializer=HeNormal(seed=None),kernel_regularizer=tf.keras.regularizers.L2(0.01)))\n",
    "model_2.add(Dense(1024, activation='relu', kernel_initializer=HeNormal(seed=None),kernel_regularizer=tf.keras.regularizers.L2(0.01)))\n",
    "model_2.add(Dropout(0.15))\n",
    "model_2.add(Dense(512, activation='relu',kernel_initializer=HeNormal(seed=None),kernel_regularizer=tf.keras.regularizers.L2(0.01)))\n",
    "model_2.add(Dropout(0.2))\n",
    "model_2.add(Dense(256, activation='relu',kernel_initializer=HeNormal(seed=None),kernel_regularizer=tf.keras.regularizers.L2(0.01)))\n",
    "model_2.add(Dropout(0.3))\n",
    "model_2.add(Dense(128, activation='relu',kernel_initializer=HeNormal(seed=None),kernel_regularizer=tf.keras.regularizers.L2(0.01)))\n",
    "model_2.add(Dense(64, activation='relu',kernel_initializer=HeNormal(seed=None),kernel_regularizer=tf.keras.regularizers.L2(0.01)))\n",
    "model_2.add(Dense(1, activation='sigmoid'))"
   ]
  },
  {
   "cell_type": "code",
   "execution_count": null,
   "metadata": {
    "colab": {
     "base_uri": "https://localhost:8080/"
    },
    "executionInfo": {
     "elapsed": 1301,
     "status": "ok",
     "timestamp": 1616782582824,
     "user": {
      "displayName": "Chaitanya Boyalla",
      "photoUrl": "https://lh3.googleusercontent.com/a-/AOh14GgdaCwr6SSgvVut6RLiT8dE7darfp_n3cvVqILWXw=s64",
      "userId": "17899511953159864359"
     },
     "user_tz": -330
    },
    "id": "YZc56pdevEHv",
    "outputId": "ca3eddb4-685b-442f-e3f6-69be94916e27"
   },
   "outputs": [
    {
     "name": "stdout",
     "output_type": "stream",
     "text": [
      "Model: \"sequential\"\n",
      "_________________________________________________________________\n",
      "Layer (type)                 Output Shape              Param #   \n",
      "=================================================================\n",
      "dense (Dense)                (None, 2048)              63488     \n",
      "_________________________________________________________________\n",
      "dense_1 (Dense)              (None, 1024)              2098176   \n",
      "_________________________________________________________________\n",
      "dropout (Dropout)            (None, 1024)              0         \n",
      "_________________________________________________________________\n",
      "dense_2 (Dense)              (None, 512)               524800    \n",
      "_________________________________________________________________\n",
      "dropout_1 (Dropout)          (None, 512)               0         \n",
      "_________________________________________________________________\n",
      "dense_3 (Dense)              (None, 256)               131328    \n",
      "_________________________________________________________________\n",
      "dropout_2 (Dropout)          (None, 256)               0         \n",
      "_________________________________________________________________\n",
      "dense_4 (Dense)              (None, 128)               32896     \n",
      "_________________________________________________________________\n",
      "dense_5 (Dense)              (None, 64)                8256      \n",
      "_________________________________________________________________\n",
      "dense_6 (Dense)              (None, 1)                 65        \n",
      "=================================================================\n",
      "Total params: 2,859,009\n",
      "Trainable params: 2,859,009\n",
      "Non-trainable params: 0\n",
      "_________________________________________________________________\n"
     ]
    }
   ],
   "source": [
    "model_2.summary()"
   ]
  },
  {
   "cell_type": "code",
   "execution_count": null,
   "metadata": {
    "id": "8ZVchjaqvEQp"
   },
   "outputs": [],
   "source": [
    "model_2.compile(optimizer='adam', loss='binary_crossentropy', metrics='accuracy')"
   ]
  },
  {
   "cell_type": "code",
   "execution_count": null,
   "metadata": {
    "colab": {
     "base_uri": "https://localhost:8080/"
    },
    "executionInfo": {
     "elapsed": 8793217,
     "status": "ok",
     "timestamp": 1616791462393,
     "user": {
      "displayName": "Chaitanya Boyalla",
      "photoUrl": "https://lh3.googleusercontent.com/a-/AOh14GgdaCwr6SSgvVut6RLiT8dE7darfp_n3cvVqILWXw=s64",
      "userId": "17899511953159864359"
     },
     "user_tz": -330
    },
    "id": "SQwOcUdAvEZi",
    "outputId": "06139a2f-b638-4ee0-d585-2c10aabae497"
   },
   "outputs": [
    {
     "name": "stdout",
     "output_type": "stream",
     "text": [
      "Epoch 1/100\n",
      "13242/13242 [==============================] - 66s 5ms/step - loss: 3.3722 - accuracy: 0.9031 - val_loss: 0.2807 - val_accuracy: 0.9070\n",
      "f1 score of '1=will reorder on cv': 0.16461637899064388\n",
      "**************************************************\n",
      "Epoch 2/100\n",
      "13242/13242 [==============================] - 63s 5ms/step - loss: 0.2838 - accuracy: 0.9048 - val_loss: 0.2806 - val_accuracy: 0.9067\n",
      "f1 score of '1=will reorder on cv': 0.31532927599968835\n",
      "model saved\n",
      "**************************************************\n",
      "Epoch 3/100\n",
      "13242/13242 [==============================] - 62s 5ms/step - loss: 0.2811 - accuracy: 0.9050 - val_loss: 0.2923 - val_accuracy: 0.9025\n",
      "f1 score of '1=will reorder on cv': 0.008760560675883256\n",
      "**************************************************\n",
      "Epoch 4/100\n",
      "13242/13242 [==============================] - 63s 5ms/step - loss: 0.2801 - accuracy: 0.9047 - val_loss: 0.2740 - val_accuracy: 0.9053\n",
      "f1 score of '1=will reorder on cv': 0.09572083488212302\n",
      "**************************************************\n",
      "Epoch 5/100\n",
      "13242/13242 [==============================] - 64s 5ms/step - loss: 0.2780 - accuracy: 0.9050 - val_loss: 0.2737 - val_accuracy: 0.9078\n",
      "f1 score of '1=will reorder on cv': 0.2474900275567032\n",
      "**************************************************\n",
      "Epoch 6/100\n",
      "13242/13242 [==============================] - 65s 5ms/step - loss: 0.2778 - accuracy: 0.9048 - val_loss: 0.2868 - val_accuracy: 0.9022\n",
      "f1 score of '1=will reorder on cv': 0.0001688944650871013\n",
      "**************************************************\n",
      "Epoch 7/100\n",
      "13242/13242 [==============================] - 64s 5ms/step - loss: 0.2777 - accuracy: 0.9047 - val_loss: 0.2728 - val_accuracy: 0.9057\n",
      "f1 score of '1=will reorder on cv': 0.33971746695652894\n",
      "model saved\n",
      "**************************************************\n",
      "Epoch 8/100\n",
      "13242/13242 [==============================] - 63s 5ms/step - loss: 0.2772 - accuracy: 0.9047 - val_loss: 0.2725 - val_accuracy: 0.9056\n",
      "f1 score of '1=will reorder on cv': 0.34078152431033487\n",
      "model saved\n",
      "**************************************************\n",
      "Epoch 9/100\n",
      "13242/13242 [==============================] - 63s 5ms/step - loss: 0.2766 - accuracy: 0.9050 - val_loss: 0.2722 - val_accuracy: 0.9031\n",
      "f1 score of '1=will reorder on cv': 0.024228604004845722\n",
      "**************************************************\n",
      "Epoch 10/100\n",
      "13242/13242 [==============================] - 63s 5ms/step - loss: 0.2761 - accuracy: 0.9049 - val_loss: 0.2727 - val_accuracy: 0.9074\n",
      "f1 score of '1=will reorder on cv': 0.28117274342117304\n",
      "**************************************************\n",
      "Epoch 11/100\n",
      "13242/13242 [==============================] - 63s 5ms/step - loss: 0.2758 - accuracy: 0.9049 - val_loss: 0.2718 - val_accuracy: 0.9030\n",
      "f1 score of '1=will reorder on cv': 0.023174557900741584\n",
      "**************************************************\n",
      "Epoch 12/100\n",
      "13242/13242 [==============================] - 63s 5ms/step - loss: 0.2752 - accuracy: 0.9051 - val_loss: 0.2726 - val_accuracy: 0.9036\n",
      "f1 score of '1=will reorder on cv': 0.04237109292564542\n",
      "**************************************************\n",
      "Epoch 13/100\n",
      "13242/13242 [==============================] - 63s 5ms/step - loss: 0.2749 - accuracy: 0.9051 - val_loss: 0.2708 - val_accuracy: 0.9039\n",
      "f1 score of '1=will reorder on cv': 0.05074059830553905\n",
      "**************************************************\n",
      "Epoch 14/100\n",
      "13242/13242 [==============================] - 64s 5ms/step - loss: 0.2758 - accuracy: 0.9045 - val_loss: 0.2730 - val_accuracy: 0.9076\n",
      "f1 score of '1=will reorder on cv': 0.2025989367985824\n",
      "**************************************************\n",
      "Epoch 15/100\n",
      "13242/13242 [==============================] - 64s 5ms/step - loss: 0.2744 - accuracy: 0.9053 - val_loss: 0.2735 - val_accuracy: 0.9053\n",
      "f1 score of '1=will reorder on cv': 0.3466584198704385\n",
      "model saved\n",
      "**************************************************\n",
      "Epoch 16/100\n",
      "13242/13242 [==============================] - 64s 5ms/step - loss: 0.2750 - accuracy: 0.9047 - val_loss: 0.2689 - val_accuracy: 0.9077\n",
      "f1 score of '1=will reorder on cv': 0.2693741764865294\n",
      "**************************************************\n",
      "Epoch 17/100\n",
      "13242/13242 [==============================] - 63s 5ms/step - loss: 0.2743 - accuracy: 0.9052 - val_loss: 0.2749 - val_accuracy: 0.9028\n",
      "f1 score of '1=will reorder on cv': 0.015412922959281207\n",
      "**************************************************\n",
      "Epoch 18/100\n",
      "13242/13242 [==============================] - 63s 5ms/step - loss: 0.2746 - accuracy: 0.9049 - val_loss: 0.2692 - val_accuracy: 0.9076\n",
      "f1 score of '1=will reorder on cv': 0.2136374588386475\n",
      "**************************************************\n",
      "Epoch 19/100\n",
      "13242/13242 [==============================] - 62s 5ms/step - loss: 0.2750 - accuracy: 0.9046 - val_loss: 0.2703 - val_accuracy: 0.9068\n",
      "f1 score of '1=will reorder on cv': 0.1594713375118385\n",
      "**************************************************\n",
      "Epoch 20/100\n",
      "13242/13242 [==============================] - 63s 5ms/step - loss: 0.2738 - accuracy: 0.9049 - val_loss: 0.2798 - val_accuracy: 0.9036\n",
      "f1 score of '1=will reorder on cv': 0.04285546829211113\n",
      "**************************************************\n",
      "Epoch 21/100\n",
      "13242/13242 [==============================] - 65s 5ms/step - loss: 0.2742 - accuracy: 0.9049 - val_loss: 0.2698 - val_accuracy: 0.9031\n",
      "f1 score of '1=will reorder on cv': 0.024930254644743872\n",
      "**************************************************\n",
      "Epoch 22/100\n",
      "13242/13242 [==============================] - 63s 5ms/step - loss: 0.2749 - accuracy: 0.9043 - val_loss: 0.2706 - val_accuracy: 0.9060\n",
      "f1 score of '1=will reorder on cv': 0.11892680661957351\n",
      "**************************************************\n",
      "Epoch 23/100\n",
      "13242/13242 [==============================] - 63s 5ms/step - loss: 0.2737 - accuracy: 0.9050 - val_loss: 0.2721 - val_accuracy: 0.9027\n",
      "f1 score of '1=will reorder on cv': 0.012877436959201502\n",
      "**************************************************\n",
      "Epoch 24/100\n",
      "13242/13242 [==============================] - 64s 5ms/step - loss: 0.2740 - accuracy: 0.9046 - val_loss: 0.2683 - val_accuracy: 0.9076\n",
      "f1 score of '1=will reorder on cv': 0.28520834284149515\n",
      "**************************************************\n",
      "Epoch 25/100\n",
      "13242/13242 [==============================] - 64s 5ms/step - loss: 0.2738 - accuracy: 0.9047 - val_loss: 0.2705 - val_accuracy: 0.9076\n",
      "f1 score of '1=will reorder on cv': 0.21620106137979375\n",
      "**************************************************\n",
      "Epoch 26/100\n",
      "13242/13242 [==============================] - 63s 5ms/step - loss: 0.2733 - accuracy: 0.9049 - val_loss: 0.2697 - val_accuracy: 0.9058\n",
      "f1 score of '1=will reorder on cv': 0.11530105524518931\n",
      "**************************************************\n",
      "Epoch 27/100\n",
      "13242/13242 [==============================] - 63s 5ms/step - loss: 0.2738 - accuracy: 0.9048 - val_loss: 0.2688 - val_accuracy: 0.9066\n",
      "f1 score of '1=will reorder on cv': 0.14648713332399013\n",
      "**************************************************\n",
      "Epoch 28/100\n",
      "13242/13242 [==============================] - 64s 5ms/step - loss: 0.2731 - accuracy: 0.9051 - val_loss: 0.2705 - val_accuracy: 0.9076\n",
      "f1 score of '1=will reorder on cv': 0.26866898277858714\n",
      "**************************************************\n",
      "Epoch 29/100\n",
      "13242/13242 [==============================] - 64s 5ms/step - loss: 0.2734 - accuracy: 0.9048 - val_loss: 0.2708 - val_accuracy: 0.9026\n",
      "f1 score of '1=will reorder on cv': 0.010713772110637072\n",
      "**************************************************\n",
      "Epoch 30/100\n",
      "13242/13242 [==============================] - 64s 5ms/step - loss: 0.2729 - accuracy: 0.9049 - val_loss: 0.2691 - val_accuracy: 0.9055\n",
      "f1 score of '1=will reorder on cv': 0.10200352045564114\n",
      "**************************************************\n",
      "Epoch 31/100\n",
      "13242/13242 [==============================] - 65s 5ms/step - loss: 0.2732 - accuracy: 0.9048 - val_loss: 0.2692 - val_accuracy: 0.9050\n",
      "f1 score of '1=will reorder on cv': 0.0854786303424144\n",
      "**************************************************\n",
      "Epoch 32/100\n",
      "13242/13242 [==============================] - 63s 5ms/step - loss: 0.2736 - accuracy: 0.9045 - val_loss: 0.2734 - val_accuracy: 0.9022\n",
      "f1 score of '1=will reorder on cv': 0.00026538957984004245\n",
      "**************************************************\n",
      "Epoch 33/100\n",
      "13242/13242 [==============================] - 62s 5ms/step - loss: 0.2731 - accuracy: 0.9049 - val_loss: 0.2732 - val_accuracy: 0.9047\n",
      "f1 score of '1=will reorder on cv': 0.35257412798857907\n",
      "model saved\n",
      "**************************************************\n",
      "Epoch 34/100\n",
      "13242/13242 [==============================] - 64s 5ms/step - loss: 0.2736 - accuracy: 0.9045 - val_loss: 0.2679 - val_accuracy: 0.9070\n",
      "f1 score of '1=will reorder on cv': 0.29861562430447364\n",
      "**************************************************\n",
      "Epoch 35/100\n",
      "13242/13242 [==============================] - 64s 5ms/step - loss: 0.2722 - accuracy: 0.9053 - val_loss: 0.2677 - val_accuracy: 0.9079\n",
      "f1 score of '1=will reorder on cv': 0.25038636909047274\n",
      "**************************************************\n",
      "Epoch 36/100\n",
      "13242/13242 [==============================] - 63s 5ms/step - loss: 0.2729 - accuracy: 0.9048 - val_loss: 0.2704 - val_accuracy: 0.9027\n",
      "f1 score of '1=will reorder on cv': 0.013990362194932379\n",
      "**************************************************\n",
      "Epoch 37/100\n",
      "13242/13242 [==============================] - 64s 5ms/step - loss: 0.2729 - accuracy: 0.9048 - val_loss: 0.2672 - val_accuracy: 0.9078\n",
      "f1 score of '1=will reorder on cv': 0.23799912242211493\n",
      "**************************************************\n",
      "Epoch 38/100\n",
      "13242/13242 [==============================] - 63s 5ms/step - loss: 0.2725 - accuracy: 0.9049 - val_loss: 0.2684 - val_accuracy: 0.9033\n",
      "f1 score of '1=will reorder on cv': 0.03056215922127997\n",
      "**************************************************\n",
      "Epoch 39/100\n",
      "13242/13242 [==============================] - 63s 5ms/step - loss: 0.2727 - accuracy: 0.9050 - val_loss: 0.2706 - val_accuracy: 0.9022\n",
      "f1 score of '1=will reorder on cv': 0.00012064181445288937\n",
      "**************************************************\n",
      "Epoch 40/100\n",
      "13242/13242 [==============================] - 62s 5ms/step - loss: 0.2732 - accuracy: 0.9045 - val_loss: 0.2800 - val_accuracy: 0.9052\n",
      "f1 score of '1=will reorder on cv': 0.3450770785125314\n",
      "model saved\n",
      "**************************************************\n",
      "Epoch 41/100\n",
      "13242/13242 [==============================] - 62s 5ms/step - loss: 0.2726 - accuracy: 0.9047 - val_loss: 0.2730 - val_accuracy: 0.9022\n",
      "f1 score of '1=will reorder on cv': 0.0007959287040833554\n",
      "**************************************************\n",
      "Epoch 42/100\n",
      "13242/13242 [==============================] - 64s 5ms/step - loss: 0.2726 - accuracy: 0.9048 - val_loss: 0.2685 - val_accuracy: 0.9029\n",
      "f1 score of '1=will reorder on cv': 0.02085689456077904\n",
      "**************************************************\n",
      "Epoch 43/100\n",
      "13242/13242 [==============================] - 63s 5ms/step - loss: 0.2720 - accuracy: 0.9049 - val_loss: 0.2690 - val_accuracy: 0.9047\n",
      "f1 score of '1=will reorder on cv': 0.07634059297218154\n",
      "**************************************************\n",
      "Epoch 44/100\n",
      "13242/13242 [==============================] - 64s 5ms/step - loss: 0.2732 - accuracy: 0.9046 - val_loss: 0.2673 - val_accuracy: 0.9059\n",
      "f1 score of '1=will reorder on cv': 0.11786168389629056\n",
      "**************************************************\n",
      "Epoch 45/100\n",
      "13242/13242 [==============================] - 63s 5ms/step - loss: 0.2727 - accuracy: 0.9047 - val_loss: 0.2742 - val_accuracy: 0.9077\n",
      "f1 score of '1=will reorder on cv': 0.27300850016257144\n",
      "**************************************************\n",
      "Epoch 46/100\n",
      "13242/13242 [==============================] - 64s 5ms/step - loss: 0.2738 - accuracy: 0.9041 - val_loss: 0.2670 - val_accuracy: 0.9071\n",
      "f1 score of '1=will reorder on cv': 0.1754834384362364\n",
      "**************************************************\n",
      "Epoch 47/100\n",
      "13242/13242 [==============================] - 64s 5ms/step - loss: 0.2730 - accuracy: 0.9045 - val_loss: 0.2754 - val_accuracy: 0.9078\n",
      "f1 score of '1=will reorder on cv': 0.24116339348988922\n",
      "**************************************************\n",
      "Epoch 48/100\n",
      "13242/13242 [==============================] - 64s 5ms/step - loss: 0.2722 - accuracy: 0.9050 - val_loss: 0.2676 - val_accuracy: 0.9027\n",
      "f1 score of '1=will reorder on cv': 0.014439052377423444\n",
      "**************************************************\n",
      "Epoch 49/100\n",
      "13242/13242 [==============================] - 63s 5ms/step - loss: 0.2722 - accuracy: 0.9048 - val_loss: 0.2683 - val_accuracy: 0.9027\n",
      "f1 score of '1=will reorder on cv': 0.012805629689912276\n",
      "**************************************************\n",
      "Epoch 50/100\n",
      "13242/13242 [==============================] - 64s 5ms/step - loss: 0.2723 - accuracy: 0.9050 - val_loss: 0.2713 - val_accuracy: 0.9023\n",
      "f1 score of '1=will reorder on cv': 0.0017597570088952101\n",
      "**************************************************\n",
      "Epoch 51/100\n",
      "13242/13242 [==============================] - 64s 5ms/step - loss: 0.2727 - accuracy: 0.9044 - val_loss: 0.2690 - val_accuracy: 0.9047\n",
      "f1 score of '1=will reorder on cv': 0.07489289559898281\n",
      "**************************************************\n",
      "Epoch 52/100\n",
      "13242/13242 [==============================] - 64s 5ms/step - loss: 0.2725 - accuracy: 0.9050 - val_loss: 0.2722 - val_accuracy: 0.9025\n",
      "f1 score of '1=will reorder on cv': 0.37556762801381194\n",
      "model saved\n",
      "**************************************************\n",
      "Epoch 53/100\n",
      "13242/13242 [==============================] - 64s 5ms/step - loss: 0.2729 - accuracy: 0.9042 - val_loss: 0.2678 - val_accuracy: 0.9065\n",
      "f1 score of '1=will reorder on cv': 0.3271658426355404\n",
      "model saved\n",
      "**************************************************\n",
      "Epoch 54/100\n",
      "13242/13242 [==============================] - 64s 5ms/step - loss: 0.2725 - accuracy: 0.9046 - val_loss: 0.2760 - val_accuracy: 0.9023\n",
      "f1 score of '1=will reorder on cv': 0.001374355017601389\n",
      "**************************************************\n",
      "Epoch 55/100\n",
      "13242/13242 [==============================] - 64s 5ms/step - loss: 0.2721 - accuracy: 0.9048 - val_loss: 0.2664 - val_accuracy: 0.9078\n",
      "f1 score of '1=will reorder on cv': 0.2260292296259599\n",
      "**************************************************\n",
      "Epoch 56/100\n",
      "13242/13242 [==============================] - 64s 5ms/step - loss: 0.2724 - accuracy: 0.9046 - val_loss: 0.2731 - val_accuracy: 0.9025\n",
      "f1 score of '1=will reorder on cv': 0.00828311445103359\n",
      "**************************************************\n",
      "Epoch 57/100\n",
      "13242/13242 [==============================] - 64s 5ms/step - loss: 0.2721 - accuracy: 0.9049 - val_loss: 0.2753 - val_accuracy: 0.9031\n",
      "f1 score of '1=will reorder on cv': 0.36982550335570474\n",
      "model saved\n",
      "**************************************************\n",
      "Epoch 58/100\n",
      "13242/13242 [==============================] - 65s 5ms/step - loss: 0.2715 - accuracy: 0.9051 - val_loss: 0.2669 - val_accuracy: 0.9074\n",
      "f1 score of '1=will reorder on cv': 0.2853110945210218\n",
      "**************************************************\n",
      "Epoch 59/100\n",
      "13242/13242 [==============================] - 66s 5ms/step - loss: 0.2723 - accuracy: 0.9047 - val_loss: 0.2706 - val_accuracy: 0.9069\n",
      "f1 score of '1=will reorder on cv': 0.1608593916188045\n",
      "**************************************************\n",
      "Epoch 60/100\n",
      "13242/13242 [==============================] - 64s 5ms/step - loss: 0.2721 - accuracy: 0.9048 - val_loss: 0.2673 - val_accuracy: 0.9064\n",
      "f1 score of '1=will reorder on cv': 0.14103911013874298\n",
      "**************************************************\n",
      "Epoch 61/100\n",
      "13242/13242 [==============================] - 64s 5ms/step - loss: 0.2722 - accuracy: 0.9045 - val_loss: 0.2688 - val_accuracy: 0.9075\n",
      "f1 score of '1=will reorder on cv': 0.28205926522837993\n",
      "**************************************************\n",
      "Epoch 62/100\n",
      "13242/13242 [==============================] - 65s 5ms/step - loss: 0.2719 - accuracy: 0.9048 - val_loss: 0.2786 - val_accuracy: 0.9025\n",
      "f1 score of '1=will reorder on cv': 0.007900866934031362\n",
      "**************************************************\n",
      "Epoch 63/100\n",
      "13242/13242 [==============================] - 65s 5ms/step - loss: 0.2720 - accuracy: 0.9047 - val_loss: 0.2673 - val_accuracy: 0.9071\n",
      "f1 score of '1=will reorder on cv': 0.17322983519426907\n",
      "**************************************************\n",
      "Epoch 64/100\n",
      "13242/13242 [==============================] - 64s 5ms/step - loss: 0.2724 - accuracy: 0.9045 - val_loss: 0.2679 - val_accuracy: 0.9052\n",
      "f1 score of '1=will reorder on cv': 0.0913861744480637\n",
      "**************************************************\n",
      "Epoch 65/100\n",
      "13242/13242 [==============================] - 64s 5ms/step - loss: 0.2718 - accuracy: 0.9046 - val_loss: 0.2685 - val_accuracy: 0.9071\n",
      "f1 score of '1=will reorder on cv': 0.1750324988468151\n",
      "**************************************************\n",
      "Epoch 66/100\n",
      "13242/13242 [==============================] - 65s 5ms/step - loss: 0.2720 - accuracy: 0.9046 - val_loss: 0.2764 - val_accuracy: 0.9023\n",
      "f1 score of '1=will reorder on cv': 0.002144991805649282\n",
      "**************************************************\n",
      "Epoch 67/100\n",
      "13242/13242 [==============================] - 64s 5ms/step - loss: 0.2719 - accuracy: 0.9049 - val_loss: 0.2909 - val_accuracy: 0.8940\n",
      "f1 score of '1=will reorder on cv': 0.41059194119963255\n",
      "model saved\n",
      "**************************************************\n",
      "Epoch 68/100\n",
      "13242/13242 [==============================] - 65s 5ms/step - loss: 0.2721 - accuracy: 0.9046 - val_loss: 0.2668 - val_accuracy: 0.9041\n",
      "f1 score of '1=will reorder on cv': 0.058655172014229276\n",
      "**************************************************\n",
      "Epoch 69/100\n",
      "13242/13242 [==============================] - 65s 5ms/step - loss: 0.2716 - accuracy: 0.9047 - val_loss: 0.2670 - val_accuracy: 0.9074\n",
      "f1 score of '1=will reorder on cv': 0.19354639810913574\n",
      "**************************************************\n",
      "Epoch 70/100\n",
      "13242/13242 [==============================] - 66s 5ms/step - loss: 0.2724 - accuracy: 0.9045 - val_loss: 0.2664 - val_accuracy: 0.9077\n",
      "f1 score of '1=will reorder on cv': 0.2683524875528769\n",
      "**************************************************\n",
      "Epoch 71/100\n",
      "13242/13242 [==============================] - 65s 5ms/step - loss: 0.2721 - accuracy: 0.9045 - val_loss: 0.2668 - val_accuracy: 0.9066\n",
      "f1 score of '1=will reorder on cv': 0.15302102513595683\n",
      "**************************************************\n",
      "Epoch 72/100\n",
      "13242/13242 [==============================] - 65s 5ms/step - loss: 0.2723 - accuracy: 0.9043 - val_loss: 0.2662 - val_accuracy: 0.9078\n",
      "f1 score of '1=will reorder on cv': 0.25339357870905493\n",
      "**************************************************\n",
      "Epoch 73/100\n",
      "13242/13242 [==============================] - 64s 5ms/step - loss: 0.2721 - accuracy: 0.9045 - val_loss: 0.2694 - val_accuracy: 0.9062\n",
      "f1 score of '1=will reorder on cv': 0.32079810561050465\n",
      "model saved\n",
      "**************************************************\n",
      "Epoch 74/100\n",
      "13242/13242 [==============================] - 65s 5ms/step - loss: 0.2714 - accuracy: 0.9048 - val_loss: 0.2682 - val_accuracy: 0.9071\n",
      "f1 score of '1=will reorder on cv': 0.17351224224098108\n",
      "**************************************************\n",
      "Epoch 75/100\n",
      "13242/13242 [==============================] - 64s 5ms/step - loss: 0.2723 - accuracy: 0.9047 - val_loss: 0.2719 - val_accuracy: 0.9012\n",
      "f1 score of '1=will reorder on cv': 0.3782511527067261\n",
      "model saved\n",
      "**************************************************\n",
      "Epoch 76/100\n",
      "13242/13242 [==============================] - 64s 5ms/step - loss: 0.2714 - accuracy: 0.9049 - val_loss: 0.2676 - val_accuracy: 0.9026\n",
      "f1 score of '1=will reorder on cv': 0.009833431267913032\n",
      "**************************************************\n",
      "Epoch 77/100\n",
      "13242/13242 [==============================] - 66s 5ms/step - loss: 0.2717 - accuracy: 0.9048 - val_loss: 0.2663 - val_accuracy: 0.9073\n",
      "f1 score of '1=will reorder on cv': 0.18603831481174327\n",
      "**************************************************\n",
      "Epoch 78/100\n",
      "13242/13242 [==============================] - 65s 5ms/step - loss: 0.2716 - accuracy: 0.9048 - val_loss: 0.2681 - val_accuracy: 0.9057\n",
      "f1 score of '1=will reorder on cv': 0.11061887800534283\n",
      "**************************************************\n",
      "Epoch 79/100\n",
      "13242/13242 [==============================] - 65s 5ms/step - loss: 0.2707 - accuracy: 0.9049 - val_loss: 0.2669 - val_accuracy: 0.9064\n",
      "f1 score of '1=will reorder on cv': 0.1424678274034822\n",
      "**************************************************\n",
      "Epoch 80/100\n",
      "13242/13242 [==============================] - 65s 5ms/step - loss: 0.2718 - accuracy: 0.9047 - val_loss: 0.2662 - val_accuracy: 0.9073\n",
      "f1 score of '1=will reorder on cv': 0.18209253439340645\n",
      "**************************************************\n",
      "Epoch 81/100\n",
      "13242/13242 [==============================] - 66s 5ms/step - loss: 0.2715 - accuracy: 0.9050 - val_loss: 0.2734 - val_accuracy: 0.9024\n",
      "f1 score of '1=will reorder on cv': 0.004020463436653627\n",
      "**************************************************\n",
      "Epoch 82/100\n",
      "13242/13242 [==============================] - 64s 5ms/step - loss: 0.2721 - accuracy: 0.9044 - val_loss: 0.2683 - val_accuracy: 0.9050\n",
      "f1 score of '1=will reorder on cv': 0.34265894066759167\n",
      "model saved\n",
      "**************************************************\n",
      "Epoch 83/100\n",
      "13242/13242 [==============================] - 65s 5ms/step - loss: 0.2716 - accuracy: 0.9048 - val_loss: 0.2674 - val_accuracy: 0.9050\n",
      "f1 score of '1=will reorder on cv': 0.08299085848294077\n",
      "**************************************************\n",
      "Epoch 84/100\n",
      "13242/13242 [==============================] - 65s 5ms/step - loss: 0.2721 - accuracy: 0.9045 - val_loss: 0.2668 - val_accuracy: 0.9069\n",
      "f1 score of '1=will reorder on cv': 0.1715360290796012\n",
      "**************************************************\n",
      "Epoch 85/100\n",
      "13242/13242 [==============================] - 65s 5ms/step - loss: 0.2719 - accuracy: 0.9045 - val_loss: 0.2735 - val_accuracy: 0.9067\n",
      "f1 score of '1=will reorder on cv': 0.3083706606942889\n",
      "model saved\n",
      "**************************************************\n",
      "Epoch 86/100\n",
      "13242/13242 [==============================] - 64s 5ms/step - loss: 0.2719 - accuracy: 0.9045 - val_loss: 0.2691 - val_accuracy: 0.9046\n",
      "f1 score of '1=will reorder on cv': 0.07140970427792133\n",
      "**************************************************\n",
      "Epoch 87/100\n",
      "13242/13242 [==============================] - 64s 5ms/step - loss: 0.2717 - accuracy: 0.9047 - val_loss: 0.2693 - val_accuracy: 0.9030\n",
      "f1 score of '1=will reorder on cv': 0.020999750002976155\n",
      "**************************************************\n",
      "Epoch 88/100\n",
      "13242/13242 [==============================] - 66s 5ms/step - loss: 0.2715 - accuracy: 0.9047 - val_loss: 0.2672 - val_accuracy: 0.9068\n",
      "f1 score of '1=will reorder on cv': 0.1667598384085563\n",
      "**************************************************\n",
      "Epoch 89/100\n",
      "13242/13242 [==============================] - 65s 5ms/step - loss: 0.2722 - accuracy: 0.9046 - val_loss: 0.2690 - val_accuracy: 0.9075\n",
      "f1 score of '1=will reorder on cv': 0.2399317141305191\n",
      "**************************************************\n",
      "Epoch 90/100\n",
      "13242/13242 [==============================] - 65s 5ms/step - loss: 0.2713 - accuracy: 0.9048 - val_loss: 0.2657 - val_accuracy: 0.9064\n",
      "f1 score of '1=will reorder on cv': 0.13926028824448689\n",
      "**************************************************\n",
      "Epoch 91/100\n",
      "13242/13242 [==============================] - 65s 5ms/step - loss: 0.2711 - accuracy: 0.9050 - val_loss: 0.2666 - val_accuracy: 0.9054\n",
      "f1 score of '1=will reorder on cv': 0.10054762546009517\n",
      "**************************************************\n",
      "Epoch 92/100\n",
      "13242/13242 [==============================] - 65s 5ms/step - loss: 0.2711 - accuracy: 0.9047 - val_loss: 0.2670 - val_accuracy: 0.9064\n",
      "f1 score of '1=will reorder on cv': 0.13796475368869382\n",
      "**************************************************\n",
      "Epoch 93/100\n",
      "13242/13242 [==============================] - 66s 5ms/step - loss: 0.2721 - accuracy: 0.9045 - val_loss: 0.2724 - val_accuracy: 0.9031\n",
      "f1 score of '1=will reorder on cv': 0.36439753302328454\n",
      "model saved\n",
      "**************************************************\n",
      "Epoch 94/100\n",
      "13242/13242 [==============================] - 65s 5ms/step - loss: 0.2718 - accuracy: 0.9047 - val_loss: 0.2678 - val_accuracy: 0.9047\n",
      "f1 score of '1=will reorder on cv': 0.07671552374637003\n",
      "**************************************************\n",
      "Epoch 95/100\n",
      "13242/13242 [==============================] - 65s 5ms/step - loss: 0.2708 - accuracy: 0.9049 - val_loss: 0.2678 - val_accuracy: 0.9060\n",
      "f1 score of '1=will reorder on cv': 0.12589024109210223\n",
      "**************************************************\n",
      "Epoch 96/100\n",
      "13242/13242 [==============================] - 65s 5ms/step - loss: 0.2716 - accuracy: 0.9047 - val_loss: 0.2730 - val_accuracy: 0.9040\n",
      "f1 score of '1=will reorder on cv': 0.05526389146998699\n",
      "**************************************************\n",
      "Epoch 97/100\n",
      "13242/13242 [==============================] - 65s 5ms/step - loss: 0.2715 - accuracy: 0.9049 - val_loss: 0.2695 - val_accuracy: 0.9037\n",
      "f1 score of '1=will reorder on cv': 0.04585954491242019\n",
      "**************************************************\n",
      "Epoch 98/100\n",
      "13242/13242 [==============================] - 65s 5ms/step - loss: 0.2721 - accuracy: 0.9046 - val_loss: 0.2662 - val_accuracy: 0.9074\n",
      "f1 score of '1=will reorder on cv': 0.20272013488943738\n",
      "**************************************************\n",
      "Epoch 99/100\n",
      "13242/13242 [==============================] - 64s 5ms/step - loss: 0.2713 - accuracy: 0.9049 - val_loss: 0.2658 - val_accuracy: 0.9067\n",
      "f1 score of '1=will reorder on cv': 0.15664398319005055\n",
      "**************************************************\n",
      "Epoch 100/100\n",
      "13242/13242 [==============================] - 66s 5ms/step - loss: 0.2720 - accuracy: 0.9048 - val_loss: 0.2659 - val_accuracy: 0.9075\n",
      "f1 score of '1=will reorder on cv': 0.22318863550809342\n",
      "**************************************************\n"
     ]
    },
    {
     "data": {
      "text/plain": [
       "<tensorflow.python.keras.callbacks.History at 0x7f4da5483990>"
      ]
     },
     "execution_count": 19,
     "metadata": {
      "tags": []
     },
     "output_type": "execute_result"
    }
   ],
   "source": [
    "model_2.fit(X_train,y_train,batch_size=256,epochs=100,verbose=1,validation_data=(X_cv,y_cv),callbacks=[callback_modif])"
   ]
  },
  {
   "cell_type": "code",
   "execution_count": null,
   "metadata": {
    "id": "EZW26KoDvEiv"
   },
   "outputs": [],
   "source": [
    "model_2.save(r'/content/drive/MyDrive/Colab Notebooks/Deep Learning Models/model_2/model_6_layered_NN_28L_param_epoch_last.h5')"
   ]
  },
  {
   "cell_type": "code",
   "execution_count": 8,
   "metadata": {
    "executionInfo": {
     "elapsed": 1741,
     "status": "ok",
     "timestamp": 1616871091853,
     "user": {
      "displayName": "Chaitanya Boyalla",
      "photoUrl": "https://lh3.googleusercontent.com/a-/AOh14GgdaCwr6SSgvVut6RLiT8dE7darfp_n3cvVqILWXw=s64",
      "userId": "17899511953159864359"
     },
     "user_tz": -330
    },
    "id": "2d2Kbti6vEst"
   },
   "outputs": [],
   "source": [
    "from keras.models import load_model\n",
    "model_2=load_model(r\"/content/drive/MyDrive/Colab Notebooks/Deep Learning Models/model_2/model_6_layered_NN_28L_param_epoch75.h5\")"
   ]
  },
  {
   "cell_type": "markdown",
   "metadata": {
    "id": "O4Ak__HQ66bq"
   },
   "source": [
    "### ***Tuning Probability Thresholds***"
   ]
  },
  {
   "cell_type": "code",
   "execution_count": 20,
   "metadata": {
    "colab": {
     "base_uri": "https://localhost:8080/"
    },
    "executionInfo": {
     "elapsed": 123637,
     "status": "ok",
     "timestamp": 1616869778008,
     "user": {
      "displayName": "Chaitanya Boyalla",
      "photoUrl": "https://lh3.googleusercontent.com/a-/AOh14GgdaCwr6SSgvVut6RLiT8dE7darfp_n3cvVqILWXw=s64",
      "userId": "17899511953159864359"
     },
     "user_tz": -330
    },
    "id": "YjEIW__53XWk",
    "outputId": "c5e788b2-4696-47dc-9da4-6f15d84f1ebb"
   },
   "outputs": [
    {
     "name": "stdout",
     "output_type": "stream",
     "text": [
      "f1_score of '1=will reorder' with threshold=0.1 is: 0.34891763592763575\n",
      "f1_score of '1=will reorder' with threshold=0.2 is: 0.413669273576221\n",
      "f1_score of '1=will reorder' with threshold=0.3 is: 0.42759844415231724\n",
      "f1_score of '1=will reorder' with threshold=0.4 is: 0.4135014055941363\n",
      "f1_score of '1=will reorder' with threshold=0.5 is: 0.3782511527067261\n"
     ]
    }
   ],
   "source": [
    "threshold_1=[0.1,0.2,0.3,0.4,0.5]\n",
    "for thres in threshold_1:\n",
    "  y_pred=[]\n",
    "  for i in model_2.predict(X_cv):\n",
    "    if i>=thres:\n",
    "      y_pred.append(1)\n",
    "    else:\n",
    "      y_pred.append(0)\n",
    "  f1_cv=f1_score(y_cv,y_pred)\n",
    "  print(\"f1_score of '1=will reorder' with threshold={} is: {}\".format(thres,f1_cv))"
   ]
  },
  {
   "cell_type": "code",
   "execution_count": 21,
   "metadata": {
    "colab": {
     "base_uri": "https://localhost:8080/"
    },
    "executionInfo": {
     "elapsed": 171921,
     "status": "ok",
     "timestamp": 1616869959849,
     "user": {
      "displayName": "Chaitanya Boyalla",
      "photoUrl": "https://lh3.googleusercontent.com/a-/AOh14GgdaCwr6SSgvVut6RLiT8dE7darfp_n3cvVqILWXw=s64",
      "userId": "17899511953159864359"
     },
     "user_tz": -330
    },
    "id": "S2TaaDzK3Xgg",
    "outputId": "76f8e835-ef48-432f-f5ac-a87f7a5f5e9b"
   },
   "outputs": [
    {
     "name": "stdout",
     "output_type": "stream",
     "text": [
      "f1_score of '1=will reorder' with threshold=0.27 is: 0.4274245864417775\n",
      "f1_score of '1=will reorder' with threshold=0.28 is: 0.4273771988051776\n",
      "f1_score of '1=will reorder' with threshold=0.29 is: 0.4273770543917093\n",
      "f1_score of '1=will reorder' with threshold=0.3 is: 0.42759844415231724\n",
      "f1_score of '1=will reorder' with threshold=0.31 is: 0.42731078051312643\n",
      "f1_score of '1=will reorder' with threshold=0.32 is: 0.4264183448842747\n",
      "f1_score of '1=will reorder' with threshold=0.33 is: 0.4254123368430711\n"
     ]
    }
   ],
   "source": [
    "threshold_2=[0.27,0.28,0.29,0.3,0.31,0.32,0.33]\n",
    "f1_scores=[]\n",
    "for thres in threshold_2:\n",
    "  y_pred=[]\n",
    "  for i in model_2.predict(X_cv):\n",
    "    if i>=thres:\n",
    "      y_pred.append(1)\n",
    "    else:\n",
    "      y_pred.append(0)\n",
    "  f1_cv=f1_score(y_cv,y_pred)\n",
    "  f1_scores.append(f1_cv)\n",
    "  print(\"f1_score of '1=will reorder' with threshold={} is: {}\".format(thres,f1_cv))"
   ]
  },
  {
   "cell_type": "code",
   "execution_count": 22,
   "metadata": {
    "colab": {
     "base_uri": "https://localhost:8080/",
     "height": 468
    },
    "executionInfo": {
     "elapsed": 1255,
     "status": "ok",
     "timestamp": 1616869967166,
     "user": {
      "displayName": "Chaitanya Boyalla",
      "photoUrl": "https://lh3.googleusercontent.com/a-/AOh14GgdaCwr6SSgvVut6RLiT8dE7darfp_n3cvVqILWXw=s64",
      "userId": "17899511953159864359"
     },
     "user_tz": -330
    },
    "id": "D0PEFZlp3Xo-",
    "outputId": "94dc4074-c704-4e19-8e52-f7b0b9d5d60a"
   },
   "outputs": [
    {
     "data": {
      "image/png": "[encoded data removed]",
      "text/plain": [
       "<Figure size 720x504 with 1 Axes>"
      ]
     },
     "metadata": {
      "needs_background": "light",
      "tags": []
     },
     "output_type": "display_data"
    }
   ],
   "source": [
    "plt.figure(figsize=(10,7))\n",
    "plt.plot(threshold_2,f1_scores,marker='*',mfc='r')\n",
    "plt.xlabel('Threshold Probabilities',size=15)\n",
    "plt.ylabel('f1-score on class label=1',size=15)\n",
    "plt.title('Probability threshold tuning for 6 layered Neural Network with 28 lakh tunable parameters',size=20)\n",
    "plt.show()"
   ]
  },
  {
   "cell_type": "markdown",
   "metadata": {
    "id": "PN7l6sO07iHC"
   },
   "source": [
    "### ***Optimum Threshold(6 layered Neural Network)***: 0.3"
   ]
  },
  {
   "cell_type": "code",
   "execution_count": 23,
   "metadata": {
    "colab": {
     "base_uri": "https://localhost:8080/"
    },
    "executionInfo": {
     "elapsed": 218982,
     "status": "ok",
     "timestamp": 1616870208489,
     "user": {
      "displayName": "Chaitanya Boyalla",
      "photoUrl": "https://lh3.googleusercontent.com/a-/AOh14GgdaCwr6SSgvVut6RLiT8dE7darfp_n3cvVqILWXw=s64",
      "userId": "17899511953159864359"
     },
     "user_tz": -330
    },
    "id": "nrPgaRyX3Xwm",
    "outputId": "f1a0598a-ee7c-4329-eb8e-7ce7f3b0b7dc"
   },
   "outputs": [
    {
     "name": "stdout",
     "output_type": "stream",
     "text": [
      "f1-score on train data: [0.92985557 0.42728878]\n",
      "f1-score on test data: [0.93005697 0.42874544]\n"
     ]
    }
   ],
   "source": [
    "y_pred_NN_6_layered_train=[1 if i>=0.3 else 0 for i in model_2.predict(X_train)]\n",
    "y_pred_NN_6_layered_test=[1 if i>=0.3 else 0 for i in model_2.predict(X_test)]\n",
    "print('f1-score on train data: {}'.format(f1_score(y_train,y_pred_NN_6_layered_train,average=None)))\n",
    "print('f1-score on test data: {}'.format(f1_score(y_test,y_pred_NN_6_layered_test,average=None)))"
   ]
  },
  {
   "cell_type": "code",
   "execution_count": 24,
   "metadata": {
    "colab": {
     "base_uri": "https://localhost:8080/",
     "height": 591
    },
    "executionInfo": {
     "elapsed": 12037,
     "status": "ok",
     "timestamp": 1616870220533,
     "user": {
      "displayName": "Chaitanya Boyalla",
      "photoUrl": "https://lh3.googleusercontent.com/a-/AOh14GgdaCwr6SSgvVut6RLiT8dE7darfp_n3cvVqILWXw=s64",
      "userId": "17899511953159864359"
     },
     "user_tz": -330
    },
    "id": "eRbm4H8C3X3x",
    "outputId": "afcb90b7-4dd6-42cd-b20d-3ceab91cbdee"
   },
   "outputs": [
    {
     "name": "stdout",
     "output_type": "stream",
     "text": [
      "Train data\n"
     ]
    },
    {
     "data": {
      "image/png": "[encoded data removed]",
      "text/plain": [
       "<Figure size 1440x288 with 6 Axes>"
      ]
     },
     "metadata": {
      "needs_background": "light",
      "tags": []
     },
     "output_type": "display_data"
    },
    {
     "name": "stdout",
     "output_type": "stream",
     "text": [
      "Test data\n"
     ]
    },
    {
     "data": {
      "image/png": "[encoded data removed]",
      "text/plain": [
       "<Figure size 1440x288 with 6 Axes>"
      ]
     },
     "metadata": {
      "needs_background": "light",
      "tags": []
     },
     "output_type": "display_data"
    }
   ],
   "source": [
    "# Confusion, Precision and Recall matrices on train and test data predictions\n",
    "print('Train data')\n",
    "plot_confusion_matrix(y_train,y_pred_NN_6_layered_train)\n",
    "print('Test data')\n",
    "plot_confusion_matrix(y_test,y_pred_NN_6_layered_test)"
   ]
  },
  {
   "cell_type": "markdown",
   "metadata": {
    "id": "OJtIhiOF3X_j"
   },
   "source": [
    "### ***Model-2 => 6 layered deep Neural Network with around 28 lakh tunable parameters:***\n",
    "\n",
    "* ***Optimum probability threshold    :*** 0.3\n",
    "* ***Test f1-score of '1=will reorder':*** 0.4287\n",
    "* ***Test recall of '1=will reorder'  :*** 0.478\n",
    "* ***Model did not over-fit to train data***"
   ]
  },
  {
   "cell_type": "markdown",
   "metadata": {
    "id": "ihDrwIaM3YA9"
   },
   "source": [
    "<img src=\"Kaggle Submission Screenshots/6 NN.png\">"
   ]
  }
 ],
 "metadata": {
  "accelerator": "GPU",
  "colab": {
   "authorship_tag": "ABX9TyPVlrILavTGpa4g1qJWsRZn",
   "collapsed_sections": [],
   "mount_file_id": "1lswDd6dtrCv1yMFlIRF65Our92TyUdzu",
   "name": "4. Deep Learning Models.ipynb",
   "provenance": [],
   "toc_visible": true
  },
  "kernelspec": {
   "display_name": "Python 3",
   "language": "python",
   "name": "python3"
  },
  "language_info": {
   "codemirror_mode": {
    "name": "ipython",
    "version": 3
   },
   "file_extension": ".py",
   "mimetype": "text/x-python",
   "name": "python",
   "nbconvert_exporter": "python",
   "pygments_lexer": "ipython3",
   "version": "3.7.9"
  }
 },
 "nbformat": 4,
 "nbformat_minor": 1
}
